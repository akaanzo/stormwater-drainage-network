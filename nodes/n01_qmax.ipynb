{
 "cells": [
  {
   "cell_type": "markdown",
   "metadata": {},
   "source": [
    "<h2>Calcolo della massima portata in un nodo</h2>\n",
    "(E' necessario aver svolto le simulazioni per tutti i tempi di pioggia)"
   ]
  },
  {
   "cell_type": "markdown",
   "metadata": {},
   "source": [
    "Si carica la libreria che consente di conoscere e scegliere la directory di lavoro"
   ]
  },
  {
   "cell_type": "code",
   "execution_count": 1,
   "metadata": {},
   "outputs": [
    {
     "data": {
      "text/plain": [
       "'C:\\\\Users\\\\anzo5\\\\Desktop\\\\fognatura\\\\nodes'"
      ]
     },
     "execution_count": 1,
     "metadata": {},
     "output_type": "execute_result"
    }
   ],
   "source": [
    "import os\n",
    "os.getcwd()"
   ]
  },
  {
   "cell_type": "markdown",
   "metadata": {},
   "source": [
    "Si interroga ora la lista dei file presenti nella nuova directory di lavoro. Se corretta sono presenti le cartelle relative alle simulazioni per ogni tempo di pioggia. (5mins, 10mins,...)"
   ]
  },
  {
   "cell_type": "code",
   "execution_count": 2,
   "metadata": {},
   "outputs": [
    {
     "data": {
      "text/plain": [
       "['.ipynb_checkpoints',\n",
       " 'csv',\n",
       " 'desktop.ini',\n",
       " 'n01_qmax.ipynb',\n",
       " 'n02_qmax.ipynb',\n",
       " 'n03_qmax.ipynb',\n",
       " 'n04_qmax.ipynb',\n",
       " 'n10_qmax.ipynb',\n",
       " 'n11_qmax.ipynb',\n",
       " 'n12_qmax.ipynb',\n",
       " 'n13_qmax.ipynb',\n",
       " 'n14_qmax.ipynb',\n",
       " 'n15_qmax.ipynb',\n",
       " 'n16_qmax.ipynb',\n",
       " 'n17_qmax.ipynb',\n",
       " 'n18_qmax.ipynb',\n",
       " 'n19_qmax.ipynb',\n",
       " 'n20_qmax.ipynb',\n",
       " 'n21_qmax.ipynb',\n",
       " 'n22_qmax.ipynb',\n",
       " 'n24_qmax.ipynb',\n",
       " 'n26_qmax.ipynb',\n",
       " 'n29_qmax.ipynb']"
      ]
     },
     "execution_count": 2,
     "metadata": {},
     "output_type": "execute_result"
    }
   ],
   "source": [
    "os.listdir()"
   ]
  },
  {
   "cell_type": "code",
   "execution_count": 4,
   "metadata": {},
   "outputs": [
    {
     "data": {
      "text/plain": [
       "['n00.csv',\n",
       " 'n01.csv',\n",
       " 'n02.csv',\n",
       " 'n03.csv',\n",
       " 'n04.csv',\n",
       " 'n05.csv',\n",
       " 'n06.csv',\n",
       " 'n07.csv',\n",
       " 'n08.csv',\n",
       " 'n09.csv',\n",
       " 'n10.csv',\n",
       " 'n11.csv',\n",
       " 'n12.csv',\n",
       " 'n13.csv',\n",
       " 'n14.csv',\n",
       " 'n15.csv',\n",
       " 'n16.csv',\n",
       " 'n17.csv',\n",
       " 'n18.csv',\n",
       " 'n19.csv',\n",
       " 'n20.csv',\n",
       " 'n21.csv',\n",
       " 'n22.csv',\n",
       " 'n23.csv',\n",
       " 'n24.csv',\n",
       " 'n25.csv',\n",
       " 'n26.csv',\n",
       " 'n27.csv',\n",
       " 'n28.csv',\n",
       " 'n29.csv']"
      ]
     },
     "execution_count": 4,
     "metadata": {},
     "output_type": "execute_result"
    }
   ],
   "source": [
    "os.chdir('csv')\n",
    "os.listdir()"
   ]
  },
  {
   "cell_type": "markdown",
   "metadata": {},
   "source": [
    "Finalmente si importa la libreria \"pandas\""
   ]
  },
  {
   "cell_type": "code",
   "execution_count": 5,
   "metadata": {},
   "outputs": [],
   "source": [
    "from pandas import *\n",
    "import pandas as pd\n",
    "import datetime as datetime\n"
   ]
  },
  {
   "cell_type": "markdown",
   "metadata": {},
   "source": [
    "Si legge il file csv del nodo contenente le portate nel tempo per i diversi tempi di pioggia, usando il comando di panda <code>read_csv</code>"
   ]
  },
  {
   "cell_type": "code",
   "execution_count": 6,
   "metadata": {},
   "outputs": [
    {
     "data": {
      "text/html": [
       "<div>\n",
       "<style scoped>\n",
       "    .dataframe tbody tr th:only-of-type {\n",
       "        vertical-align: middle;\n",
       "    }\n",
       "\n",
       "    .dataframe tbody tr th {\n",
       "        vertical-align: top;\n",
       "    }\n",
       "\n",
       "    .dataframe thead th {\n",
       "        text-align: right;\n",
       "    }\n",
       "</style>\n",
       "<table border=\"1\" class=\"dataframe\">\n",
       "  <thead>\n",
       "    <tr style=\"text-align: right;\">\n",
       "      <th></th>\n",
       "      <th>5min</th>\n",
       "      <th>10min</th>\n",
       "      <th>15min</th>\n",
       "      <th>20min</th>\n",
       "      <th>25min</th>\n",
       "    </tr>\n",
       "    <tr>\n",
       "      <th>time</th>\n",
       "      <th></th>\n",
       "      <th></th>\n",
       "      <th></th>\n",
       "      <th></th>\n",
       "      <th></th>\n",
       "    </tr>\n",
       "  </thead>\n",
       "  <tbody>\n",
       "    <tr>\n",
       "      <th>00:00:30</th>\n",
       "      <td>0.011050</td>\n",
       "      <td>0.004790</td>\n",
       "      <td>0.002881</td>\n",
       "      <td>0.001982</td>\n",
       "      <td>0.001469</td>\n",
       "    </tr>\n",
       "    <tr>\n",
       "      <th>00:01:00</th>\n",
       "      <td>0.025337</td>\n",
       "      <td>0.010727</td>\n",
       "      <td>0.006375</td>\n",
       "      <td>0.004352</td>\n",
       "      <td>0.003211</td>\n",
       "    </tr>\n",
       "    <tr>\n",
       "      <th>00:01:30</th>\n",
       "      <td>0.053267</td>\n",
       "      <td>0.023170</td>\n",
       "      <td>0.014098</td>\n",
       "      <td>0.009825</td>\n",
       "      <td>0.007399</td>\n",
       "    </tr>\n",
       "    <tr>\n",
       "      <th>00:02:00</th>\n",
       "      <td>0.090978</td>\n",
       "      <td>0.039517</td>\n",
       "      <td>0.024029</td>\n",
       "      <td>0.016782</td>\n",
       "      <td>0.012683</td>\n",
       "    </tr>\n",
       "    <tr>\n",
       "      <th>00:02:30</th>\n",
       "      <td>0.137130</td>\n",
       "      <td>0.060215</td>\n",
       "      <td>0.036851</td>\n",
       "      <td>0.025863</td>\n",
       "      <td>0.019600</td>\n",
       "    </tr>\n",
       "    <tr>\n",
       "      <th>00:03:00</th>\n",
       "      <td>0.193835</td>\n",
       "      <td>0.086175</td>\n",
       "      <td>0.052887</td>\n",
       "      <td>0.037233</td>\n",
       "      <td>0.028247</td>\n",
       "    </tr>\n",
       "    <tr>\n",
       "      <th>00:03:30</th>\n",
       "      <td>0.252607</td>\n",
       "      <td>0.114709</td>\n",
       "      <td>0.070995</td>\n",
       "      <td>0.050162</td>\n",
       "      <td>0.038179</td>\n",
       "    </tr>\n",
       "    <tr>\n",
       "      <th>00:04:00</th>\n",
       "      <td>0.315280</td>\n",
       "      <td>0.147111</td>\n",
       "      <td>0.092064</td>\n",
       "      <td>0.065434</td>\n",
       "      <td>0.049992</td>\n",
       "    </tr>\n",
       "    <tr>\n",
       "      <th>00:04:30</th>\n",
       "      <td>0.373087</td>\n",
       "      <td>0.179135</td>\n",
       "      <td>0.113675</td>\n",
       "      <td>0.081401</td>\n",
       "      <td>0.062518</td>\n",
       "    </tr>\n",
       "    <tr>\n",
       "      <th>00:05:00</th>\n",
       "      <td>0.429758</td>\n",
       "      <td>0.212287</td>\n",
       "      <td>0.136714</td>\n",
       "      <td>0.098900</td>\n",
       "      <td>0.076404</td>\n",
       "    </tr>\n",
       "    <tr>\n",
       "      <th>...</th>\n",
       "      <td>...</td>\n",
       "      <td>...</td>\n",
       "      <td>...</td>\n",
       "      <td>...</td>\n",
       "      <td>...</td>\n",
       "    </tr>\n",
       "    <tr>\n",
       "      <th>04:55:30</th>\n",
       "      <td>0.000140</td>\n",
       "      <td>0.000143</td>\n",
       "      <td>0.000148</td>\n",
       "      <td>0.000160</td>\n",
       "      <td>0.000167</td>\n",
       "    </tr>\n",
       "    <tr>\n",
       "      <th>04:56:00</th>\n",
       "      <td>0.000139</td>\n",
       "      <td>0.000142</td>\n",
       "      <td>0.000147</td>\n",
       "      <td>0.000159</td>\n",
       "      <td>0.000166</td>\n",
       "    </tr>\n",
       "    <tr>\n",
       "      <th>04:56:30</th>\n",
       "      <td>0.000139</td>\n",
       "      <td>0.000142</td>\n",
       "      <td>0.000146</td>\n",
       "      <td>0.000159</td>\n",
       "      <td>0.000165</td>\n",
       "    </tr>\n",
       "    <tr>\n",
       "      <th>04:57:00</th>\n",
       "      <td>0.000138</td>\n",
       "      <td>0.000141</td>\n",
       "      <td>0.000146</td>\n",
       "      <td>0.000158</td>\n",
       "      <td>0.000164</td>\n",
       "    </tr>\n",
       "    <tr>\n",
       "      <th>04:57:30</th>\n",
       "      <td>0.000137</td>\n",
       "      <td>0.000141</td>\n",
       "      <td>0.000145</td>\n",
       "      <td>0.000157</td>\n",
       "      <td>0.000164</td>\n",
       "    </tr>\n",
       "    <tr>\n",
       "      <th>04:58:00</th>\n",
       "      <td>0.000137</td>\n",
       "      <td>0.000140</td>\n",
       "      <td>0.000145</td>\n",
       "      <td>0.000157</td>\n",
       "      <td>0.000163</td>\n",
       "    </tr>\n",
       "    <tr>\n",
       "      <th>04:58:30</th>\n",
       "      <td>0.000136</td>\n",
       "      <td>0.000139</td>\n",
       "      <td>0.000144</td>\n",
       "      <td>0.000156</td>\n",
       "      <td>0.000162</td>\n",
       "    </tr>\n",
       "    <tr>\n",
       "      <th>04:59:00</th>\n",
       "      <td>0.000136</td>\n",
       "      <td>0.000139</td>\n",
       "      <td>0.000143</td>\n",
       "      <td>0.000155</td>\n",
       "      <td>0.000161</td>\n",
       "    </tr>\n",
       "    <tr>\n",
       "      <th>04:59:30</th>\n",
       "      <td>0.000135</td>\n",
       "      <td>0.000138</td>\n",
       "      <td>0.000143</td>\n",
       "      <td>0.000155</td>\n",
       "      <td>0.000161</td>\n",
       "    </tr>\n",
       "    <tr>\n",
       "      <th>05:00:00</th>\n",
       "      <td>0.000135</td>\n",
       "      <td>0.000138</td>\n",
       "      <td>0.000142</td>\n",
       "      <td>0.000154</td>\n",
       "      <td>0.000160</td>\n",
       "    </tr>\n",
       "  </tbody>\n",
       "</table>\n",
       "<p>600 rows × 5 columns</p>\n",
       "</div>"
      ],
      "text/plain": [
       "              5min     10min     15min     20min     25min\n",
       "time                                                      \n",
       "00:00:30  0.011050  0.004790  0.002881  0.001982  0.001469\n",
       "00:01:00  0.025337  0.010727  0.006375  0.004352  0.003211\n",
       "00:01:30  0.053267  0.023170  0.014098  0.009825  0.007399\n",
       "00:02:00  0.090978  0.039517  0.024029  0.016782  0.012683\n",
       "00:02:30  0.137130  0.060215  0.036851  0.025863  0.019600\n",
       "00:03:00  0.193835  0.086175  0.052887  0.037233  0.028247\n",
       "00:03:30  0.252607  0.114709  0.070995  0.050162  0.038179\n",
       "00:04:00  0.315280  0.147111  0.092064  0.065434  0.049992\n",
       "00:04:30  0.373087  0.179135  0.113675  0.081401  0.062518\n",
       "00:05:00  0.429758  0.212287  0.136714  0.098900  0.076404\n",
       "...            ...       ...       ...       ...       ...\n",
       "04:55:30  0.000140  0.000143  0.000148  0.000160  0.000167\n",
       "04:56:00  0.000139  0.000142  0.000147  0.000159  0.000166\n",
       "04:56:30  0.000139  0.000142  0.000146  0.000159  0.000165\n",
       "04:57:00  0.000138  0.000141  0.000146  0.000158  0.000164\n",
       "04:57:30  0.000137  0.000141  0.000145  0.000157  0.000164\n",
       "04:58:00  0.000137  0.000140  0.000145  0.000157  0.000163\n",
       "04:58:30  0.000136  0.000139  0.000144  0.000156  0.000162\n",
       "04:59:00  0.000136  0.000139  0.000143  0.000155  0.000161\n",
       "04:59:30  0.000135  0.000138  0.000143  0.000155  0.000161\n",
       "05:00:00  0.000135  0.000138  0.000142  0.000154  0.000160\n",
       "\n",
       "[600 rows x 5 columns]"
      ]
     },
     "execution_count": 6,
     "metadata": {},
     "output_type": "execute_result"
    }
   ],
   "source": [
    "pd.options.display.max_rows = 20\n",
    "node = pd.read_csv('n01.csv')\n",
    "map(datetime, node['time'])\n",
    "node = node.set_index('time')\n",
    "node"
   ]
  },
  {
   "cell_type": "markdown",
   "metadata": {},
   "source": [
    "Finalmente visualizziamo i dati con matplotlib. Il secondo comando, preceduto da \"%\" consente di visualizzare automaticamente sullo schermo il risultato grafico. "
   ]
  },
  {
   "cell_type": "code",
   "execution_count": 7,
   "metadata": {},
   "outputs": [],
   "source": [
    "import matplotlib.pyplot as plt\n",
    "%matplotlib inline "
   ]
  },
  {
   "cell_type": "markdown",
   "metadata": {},
   "source": [
    "Si visualizzano le curve di portata rispetto all'andamento nel tempo per un controllo ulteriore"
   ]
  },
  {
   "cell_type": "code",
   "execution_count": 8,
   "metadata": {},
   "outputs": [],
   "source": [
    "all=node[['5min','10min', '15min', '20min', '25min']]"
   ]
  },
  {
   "cell_type": "code",
   "execution_count": 9,
   "metadata": {},
   "outputs": [
    {
     "data": {
      "text/plain": [
       "[]"
      ]
     },
     "execution_count": 9,
     "metadata": {},
     "output_type": "execute_result"
    },
    {
     "data": {
      "image/png": "[encoded data removed]",
      "text/plain": [
       "<Figure size 432x288 with 1 Axes>"
      ]
     },
     "metadata": {
      "needs_background": "light"
     },
     "output_type": "display_data"
    }
   ],
   "source": [
    "ax = all.plot(style=\"-o\")\n",
    "ax.set_xlabel('Time [hh:mm:ss]')\n",
    "ax.set_ylabel(r'$Q\\,\\left[m^3/s\\right]$')\n",
    "ax.plot()"
   ]
  },
  {
   "cell_type": "markdown",
   "metadata": {},
   "source": [
    "Si valuta il valore massimo di portata tra i massimi ottenuti per tempi diversi di pioggia e il relativo tempo critico"
   ]
  },
  {
   "cell_type": "code",
   "execution_count": 10,
   "metadata": {},
   "outputs": [],
   "source": [
    "n_t1 = node['5min']\n",
    "n_t2 = node['10min']\n",
    "n_t3 = node['15min']\n",
    "n_t4 = node['20min']\n",
    "n_t5 = node['25min']"
   ]
  },
  {
   "cell_type": "code",
   "execution_count": 11,
   "metadata": {},
   "outputs": [
    {
     "data": {
      "text/plain": [
       "[0.43357799999999996, 0.452471, 0.41399600000000003, 0.356732, 0.324162]"
      ]
     },
     "execution_count": 11,
     "metadata": {},
     "output_type": "execute_result"
    }
   ],
   "source": [
    "maxValues = [n_t1.max(), n_t2.max(), n_t3.max(), n_t4.max(), n_t5.max()]\n",
    "maxValues"
   ]
  },
  {
   "cell_type": "markdown",
   "metadata": {},
   "source": [
    "Il valore massimo tra i tempi è $Q_{max}$ e vale"
   ]
  },
  {
   "cell_type": "code",
   "execution_count": 12,
   "metadata": {},
   "outputs": [
    {
     "data": {
      "text/plain": [
       "0.452471"
      ]
     },
     "execution_count": 12,
     "metadata": {},
     "output_type": "execute_result"
    }
   ],
   "source": [
    "maxValue = max(maxValues)\n",
    "maxValue"
   ]
  },
  {
   "cell_type": "markdown",
   "metadata": {},
   "source": [
    "cioè, in litri"
   ]
  },
  {
   "cell_type": "code",
   "execution_count": 14,
   "metadata": {},
   "outputs": [
    {
     "data": {
      "text/plain": [
       "452.471"
      ]
     },
     "execution_count": 14,
     "metadata": {},
     "output_type": "execute_result"
    }
   ],
   "source": [
    "maxValue * 1000"
   ]
  },
  {
   "cell_type": "markdown",
   "metadata": {},
   "source": [
    "La sua posizione nel file dei massimi è:"
   ]
  },
  {
   "cell_type": "code",
   "execution_count": 15,
   "metadata": {},
   "outputs": [
    {
     "data": {
      "text/plain": [
       "1"
      ]
     },
     "execution_count": 15,
     "metadata": {},
     "output_type": "execute_result"
    }
   ],
   "source": [
    "maxValues.index(maxValue)"
   ]
  },
  {
   "cell_type": "markdown",
   "metadata": {},
   "source": [
    "cioè è causata dalla precipitazione di **10min**."
   ]
  },
  {
   "cell_type": "markdown",
   "metadata": {},
   "source": [
    "Ora ci proponiamo di trovare il tempo in cui il massimo si realizza. Per fare questo dobbiamo considerare il primo dataFrame."
   ]
  },
  {
   "cell_type": "code",
   "execution_count": 16,
   "metadata": {},
   "outputs": [],
   "source": [
    "mask=(n_t2==n_t2.max())"
   ]
  },
  {
   "cell_type": "code",
   "execution_count": 17,
   "metadata": {},
   "outputs": [
    {
     "data": {
      "text/plain": [
       "time\n",
       "00:00:30    False\n",
       "00:01:00    False\n",
       "00:01:30    False\n",
       "00:02:00    False\n",
       "00:02:30    False\n",
       "00:03:00    False\n",
       "00:03:30    False\n",
       "00:04:00    False\n",
       "00:04:30    False\n",
       "00:05:00    False\n",
       "            ...  \n",
       "04:55:30    False\n",
       "04:56:00    False\n",
       "04:56:30    False\n",
       "04:57:00    False\n",
       "04:57:30    False\n",
       "04:58:00    False\n",
       "04:58:30    False\n",
       "04:59:00    False\n",
       "04:59:30    False\n",
       "05:00:00    False\n",
       "Name: 10min, Length: 600, dtype: bool"
      ]
     },
     "execution_count": 17,
     "metadata": {},
     "output_type": "execute_result"
    }
   ],
   "source": [
    "n_t2==n_t2.max()"
   ]
  },
  {
   "cell_type": "code",
   "execution_count": 18,
   "metadata": {},
   "outputs": [
    {
     "data": {
      "text/plain": [
       "time\n",
       "00:10:00    0.452471\n",
       "Name: 10min, dtype: float64"
      ]
     },
     "execution_count": 18,
     "metadata": {},
     "output_type": "execute_result"
    }
   ],
   "source": [
    "n_t2[mask]"
   ]
  },
  {
   "cell_type": "markdown",
   "metadata": {},
   "source": [
    "Il tempo di pioggia critico risulta:"
   ]
  },
  {
   "cell_type": "code",
   "execution_count": 19,
   "metadata": {},
   "outputs": [
    {
     "data": {
      "text/plain": [
       "Index(['00:10:00'], dtype='object', name='time')"
      ]
     },
     "execution_count": 19,
     "metadata": {},
     "output_type": "execute_result"
    }
   ],
   "source": [
    "n_t2[mask].index"
   ]
  },
  {
   "cell_type": "markdown",
   "metadata": {},
   "source": [
    "---"
   ]
  }
 ],
 "metadata": {
  "kernelspec": {
   "display_name": "Python 3",
   "language": "python",
   "name": "python3"
  },
  "language_info": {
   "codemirror_mode": {
    "name": "ipython",
    "version": 3
   },
   "file_extension": ".py",
   "mimetype": "text/x-python",
   "name": "python",
   "nbconvert_exporter": "python",
   "pygments_lexer": "ipython3",
   "version": "3.7.3"
  }
 },
 "nbformat": 4,
 "nbformat_minor": 2
}
