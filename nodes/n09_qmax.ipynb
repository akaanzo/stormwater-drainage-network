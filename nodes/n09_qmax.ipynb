{
 "cells": [
  {
   "cell_type": "markdown",
   "metadata": {},
   "source": [
    "<h2>Calcolo della massima portata in un nodo</h2>\n",
    "(E' necessario aver svolto le simulazioni per tutti i tempi di pioggia)"
   ]
  },
  {
   "cell_type": "markdown",
   "metadata": {},
   "source": [
    "Si carica la libreria che consente di conoscere e scegliere la directory di lavoro"
   ]
  },
  {
   "cell_type": "code",
   "execution_count": 1,
   "metadata": {},
   "outputs": [
    {
     "data": {
      "text/plain": [
       "'C:\\\\Users\\\\anzo5\\\\Desktop\\\\fognatura\\\\nodes'"
      ]
     },
     "execution_count": 1,
     "metadata": {},
     "output_type": "execute_result"
    }
   ],
   "source": [
    "import os\n",
    "os.getcwd()"
   ]
  },
  {
   "cell_type": "markdown",
   "metadata": {},
   "source": [
    "Si interroga ora la lista dei file presenti nella nuova directory di lavoro. Se corretta sono presenti le cartelle relative alle simulazioni per ogni tempo di pioggia. (5mins, 10mins,...)"
   ]
  },
  {
   "cell_type": "code",
   "execution_count": 2,
   "metadata": {},
   "outputs": [
    {
     "data": {
      "text/plain": [
       "['.ipynb_checkpoints',\n",
       " 'csv',\n",
       " 'desktop.ini',\n",
       " 'n01_qmax.ipynb',\n",
       " 'n02_qmax.ipynb',\n",
       " 'n03_qmax.ipynb',\n",
       " 'n04_qmax.ipynb',\n",
       " 'n05_qmax.ipynb',\n",
       " 'n06_qmax.ipynb',\n",
       " 'n07_qmax.ipynb',\n",
       " 'n08_qmax.ipynb',\n",
       " 'n09_qmax.ipynb',\n",
       " 'n10_qmax.ipynb',\n",
       " 'n11_qmax.ipynb',\n",
       " 'n12_qmax.ipynb',\n",
       " 'n13_qmax.ipynb',\n",
       " 'n14_qmax.ipynb',\n",
       " 'n15_qmax.ipynb',\n",
       " 'n16_qmax.ipynb',\n",
       " 'n17_qmax.ipynb',\n",
       " 'n18_qmax.ipynb',\n",
       " 'n19_qmax.ipynb',\n",
       " 'n20_qmax.ipynb',\n",
       " 'n21_qmax.ipynb',\n",
       " 'n22_qmax.ipynb',\n",
       " 'n23_qmax.ipynb',\n",
       " 'n24_qmax.ipynb',\n",
       " 'n25_qmax.ipynb',\n",
       " 'n26_qmax.ipynb',\n",
       " 'n27_qmax.ipynb',\n",
       " 'n28_qmax.ipynb',\n",
       " 'n29_qmax.ipynb']"
      ]
     },
     "execution_count": 2,
     "metadata": {},
     "output_type": "execute_result"
    }
   ],
   "source": [
    "os.listdir()"
   ]
  },
  {
   "cell_type": "code",
   "execution_count": 3,
   "metadata": {},
   "outputs": [
    {
     "data": {
      "text/plain": [
       "['n00.csv',\n",
       " 'n01.csv',\n",
       " 'n02.csv',\n",
       " 'n03.csv',\n",
       " 'n04.csv',\n",
       " 'n05.csv',\n",
       " 'n06.csv',\n",
       " 'n07.csv',\n",
       " 'n08.csv',\n",
       " 'n09.csv',\n",
       " 'n10.csv',\n",
       " 'n11.csv',\n",
       " 'n12.csv',\n",
       " 'n13.csv',\n",
       " 'n14.csv',\n",
       " 'n15.csv',\n",
       " 'n16.csv',\n",
       " 'n17.csv',\n",
       " 'n18.csv',\n",
       " 'n19.csv',\n",
       " 'n20.csv',\n",
       " 'n21.csv',\n",
       " 'n22.csv',\n",
       " 'n23.csv',\n",
       " 'n24.csv',\n",
       " 'n25.csv',\n",
       " 'n26.csv',\n",
       " 'n27.csv',\n",
       " 'n28.csv',\n",
       " 'n29.csv']"
      ]
     },
     "execution_count": 3,
     "metadata": {},
     "output_type": "execute_result"
    }
   ],
   "source": [
    "os.chdir('csv')\n",
    "os.listdir()"
   ]
  },
  {
   "cell_type": "markdown",
   "metadata": {},
   "source": [
    "Finalmente si importa la libreria \"pandas\""
   ]
  },
  {
   "cell_type": "code",
   "execution_count": 4,
   "metadata": {},
   "outputs": [],
   "source": [
    "from pandas import *\n",
    "import pandas as pd\n",
    "import datetime as datetime\n"
   ]
  },
  {
   "cell_type": "markdown",
   "metadata": {},
   "source": [
    "Si legge il file csv del nodo contenente le portate nel tempo per i diversi tempi di pioggia, usando il comando di panda <code>read_csv</code>"
   ]
  },
  {
   "cell_type": "code",
   "execution_count": 5,
   "metadata": {},
   "outputs": [
    {
     "data": {
      "text/html": [
       "<div>\n",
       "<style scoped>\n",
       "    .dataframe tbody tr th:only-of-type {\n",
       "        vertical-align: middle;\n",
       "    }\n",
       "\n",
       "    .dataframe tbody tr th {\n",
       "        vertical-align: top;\n",
       "    }\n",
       "\n",
       "    .dataframe thead th {\n",
       "        text-align: right;\n",
       "    }\n",
       "</style>\n",
       "<table border=\"1\" class=\"dataframe\">\n",
       "  <thead>\n",
       "    <tr style=\"text-align: right;\">\n",
       "      <th></th>\n",
       "      <th>5min</th>\n",
       "      <th>10min</th>\n",
       "      <th>15min</th>\n",
       "      <th>20min</th>\n",
       "      <th>25min</th>\n",
       "    </tr>\n",
       "    <tr>\n",
       "      <th>time</th>\n",
       "      <th></th>\n",
       "      <th></th>\n",
       "      <th></th>\n",
       "      <th></th>\n",
       "      <th></th>\n",
       "    </tr>\n",
       "  </thead>\n",
       "  <tbody>\n",
       "    <tr>\n",
       "      <th>00:00:30</th>\n",
       "      <td>0.007235</td>\n",
       "      <td>0.003137</td>\n",
       "      <td>0.001890</td>\n",
       "      <td>0.001304</td>\n",
       "      <td>0.000969</td>\n",
       "    </tr>\n",
       "    <tr>\n",
       "      <th>00:01:00</th>\n",
       "      <td>0.016556</td>\n",
       "      <td>0.007032</td>\n",
       "      <td>0.004208</td>\n",
       "      <td>0.002883</td>\n",
       "      <td>0.002134</td>\n",
       "    </tr>\n",
       "    <tr>\n",
       "      <th>00:01:30</th>\n",
       "      <td>0.036403</td>\n",
       "      <td>0.015561</td>\n",
       "      <td>0.009433</td>\n",
       "      <td>0.006576</td>\n",
       "      <td>0.004967</td>\n",
       "    </tr>\n",
       "    <tr>\n",
       "      <th>00:02:00</th>\n",
       "      <td>0.065931</td>\n",
       "      <td>0.027392</td>\n",
       "      <td>0.016387</td>\n",
       "      <td>0.011376</td>\n",
       "      <td>0.008563</td>\n",
       "    </tr>\n",
       "    <tr>\n",
       "      <th>00:02:30</th>\n",
       "      <td>0.110077</td>\n",
       "      <td>0.044813</td>\n",
       "      <td>0.026472</td>\n",
       "      <td>0.018304</td>\n",
       "      <td>0.013693</td>\n",
       "    </tr>\n",
       "    <tr>\n",
       "      <th>00:03:00</th>\n",
       "      <td>0.173120</td>\n",
       "      <td>0.069456</td>\n",
       "      <td>0.040635</td>\n",
       "      <td>0.027776</td>\n",
       "      <td>0.020641</td>\n",
       "    </tr>\n",
       "    <tr>\n",
       "      <th>00:03:30</th>\n",
       "      <td>0.253451</td>\n",
       "      <td>0.102112</td>\n",
       "      <td>0.059386</td>\n",
       "      <td>0.040272</td>\n",
       "      <td>0.029836</td>\n",
       "    </tr>\n",
       "    <tr>\n",
       "      <th>00:04:00</th>\n",
       "      <td>0.352895</td>\n",
       "      <td>0.144009</td>\n",
       "      <td>0.083867</td>\n",
       "      <td>0.056869</td>\n",
       "      <td>0.041927</td>\n",
       "    </tr>\n",
       "    <tr>\n",
       "      <th>00:04:30</th>\n",
       "      <td>0.466921</td>\n",
       "      <td>0.193419</td>\n",
       "      <td>0.113433</td>\n",
       "      <td>0.077044</td>\n",
       "      <td>0.056875</td>\n",
       "    </tr>\n",
       "    <tr>\n",
       "      <th>00:05:00</th>\n",
       "      <td>0.601277</td>\n",
       "      <td>0.251660</td>\n",
       "      <td>0.148720</td>\n",
       "      <td>0.101620</td>\n",
       "      <td>0.075259</td>\n",
       "    </tr>\n",
       "    <tr>\n",
       "      <th>...</th>\n",
       "      <td>...</td>\n",
       "      <td>...</td>\n",
       "      <td>...</td>\n",
       "      <td>...</td>\n",
       "      <td>...</td>\n",
       "    </tr>\n",
       "    <tr>\n",
       "      <th>04:55:30</th>\n",
       "      <td>0.000568</td>\n",
       "      <td>0.000606</td>\n",
       "      <td>0.000640</td>\n",
       "      <td>0.000669</td>\n",
       "      <td>0.000704</td>\n",
       "    </tr>\n",
       "    <tr>\n",
       "      <th>04:56:00</th>\n",
       "      <td>0.000565</td>\n",
       "      <td>0.000604</td>\n",
       "      <td>0.000637</td>\n",
       "      <td>0.000666</td>\n",
       "      <td>0.000701</td>\n",
       "    </tr>\n",
       "    <tr>\n",
       "      <th>04:56:30</th>\n",
       "      <td>0.000563</td>\n",
       "      <td>0.000601</td>\n",
       "      <td>0.000635</td>\n",
       "      <td>0.000663</td>\n",
       "      <td>0.000698</td>\n",
       "    </tr>\n",
       "    <tr>\n",
       "      <th>04:57:00</th>\n",
       "      <td>0.000560</td>\n",
       "      <td>0.000599</td>\n",
       "      <td>0.000632</td>\n",
       "      <td>0.000660</td>\n",
       "      <td>0.000695</td>\n",
       "    </tr>\n",
       "    <tr>\n",
       "      <th>04:57:30</th>\n",
       "      <td>0.000558</td>\n",
       "      <td>0.000596</td>\n",
       "      <td>0.000629</td>\n",
       "      <td>0.000658</td>\n",
       "      <td>0.000692</td>\n",
       "    </tr>\n",
       "    <tr>\n",
       "      <th>04:58:00</th>\n",
       "      <td>0.000556</td>\n",
       "      <td>0.000594</td>\n",
       "      <td>0.000627</td>\n",
       "      <td>0.000655</td>\n",
       "      <td>0.000689</td>\n",
       "    </tr>\n",
       "    <tr>\n",
       "      <th>04:58:30</th>\n",
       "      <td>0.000553</td>\n",
       "      <td>0.000591</td>\n",
       "      <td>0.000624</td>\n",
       "      <td>0.000652</td>\n",
       "      <td>0.000686</td>\n",
       "    </tr>\n",
       "    <tr>\n",
       "      <th>04:59:00</th>\n",
       "      <td>0.000551</td>\n",
       "      <td>0.000589</td>\n",
       "      <td>0.000622</td>\n",
       "      <td>0.000649</td>\n",
       "      <td>0.000683</td>\n",
       "    </tr>\n",
       "    <tr>\n",
       "      <th>04:59:30</th>\n",
       "      <td>0.000549</td>\n",
       "      <td>0.000586</td>\n",
       "      <td>0.000619</td>\n",
       "      <td>0.000647</td>\n",
       "      <td>0.000680</td>\n",
       "    </tr>\n",
       "    <tr>\n",
       "      <th>05:00:00</th>\n",
       "      <td>0.000547</td>\n",
       "      <td>0.000584</td>\n",
       "      <td>0.000616</td>\n",
       "      <td>0.000644</td>\n",
       "      <td>0.000677</td>\n",
       "    </tr>\n",
       "  </tbody>\n",
       "</table>\n",
       "<p>600 rows × 5 columns</p>\n",
       "</div>"
      ],
      "text/plain": [
       "              5min     10min     15min     20min     25min\n",
       "time                                                      \n",
       "00:00:30  0.007235  0.003137  0.001890  0.001304  0.000969\n",
       "00:01:00  0.016556  0.007032  0.004208  0.002883  0.002134\n",
       "00:01:30  0.036403  0.015561  0.009433  0.006576  0.004967\n",
       "00:02:00  0.065931  0.027392  0.016387  0.011376  0.008563\n",
       "00:02:30  0.110077  0.044813  0.026472  0.018304  0.013693\n",
       "00:03:00  0.173120  0.069456  0.040635  0.027776  0.020641\n",
       "00:03:30  0.253451  0.102112  0.059386  0.040272  0.029836\n",
       "00:04:00  0.352895  0.144009  0.083867  0.056869  0.041927\n",
       "00:04:30  0.466921  0.193419  0.113433  0.077044  0.056875\n",
       "00:05:00  0.601277  0.251660  0.148720  0.101620  0.075259\n",
       "...            ...       ...       ...       ...       ...\n",
       "04:55:30  0.000568  0.000606  0.000640  0.000669  0.000704\n",
       "04:56:00  0.000565  0.000604  0.000637  0.000666  0.000701\n",
       "04:56:30  0.000563  0.000601  0.000635  0.000663  0.000698\n",
       "04:57:00  0.000560  0.000599  0.000632  0.000660  0.000695\n",
       "04:57:30  0.000558  0.000596  0.000629  0.000658  0.000692\n",
       "04:58:00  0.000556  0.000594  0.000627  0.000655  0.000689\n",
       "04:58:30  0.000553  0.000591  0.000624  0.000652  0.000686\n",
       "04:59:00  0.000551  0.000589  0.000622  0.000649  0.000683\n",
       "04:59:30  0.000549  0.000586  0.000619  0.000647  0.000680\n",
       "05:00:00  0.000547  0.000584  0.000616  0.000644  0.000677\n",
       "\n",
       "[600 rows x 5 columns]"
      ]
     },
     "execution_count": 5,
     "metadata": {},
     "output_type": "execute_result"
    }
   ],
   "source": [
    "pd.options.display.max_rows = 20\n",
    "node = pd.read_csv('n09.csv')\n",
    "map(datetime, node['time'])\n",
    "node = node.set_index('time')\n",
    "node"
   ]
  },
  {
   "cell_type": "markdown",
   "metadata": {},
   "source": [
    "Finalmente visualizziamo i dati con matplotlib. Il secondo comando, preceduto da \"%\" consente di visualizzare automaticamente sullo schermo il risultato grafico. "
   ]
  },
  {
   "cell_type": "code",
   "execution_count": 6,
   "metadata": {},
   "outputs": [],
   "source": [
    "import matplotlib.pyplot as plt\n",
    "%matplotlib inline "
   ]
  },
  {
   "cell_type": "markdown",
   "metadata": {},
   "source": [
    "Si visualizzano le curve di portata rispetto all'andamento nel tempo per un controllo ulteriore"
   ]
  },
  {
   "cell_type": "code",
   "execution_count": 7,
   "metadata": {},
   "outputs": [],
   "source": [
    "all=node[['5min','10min', '15min', '20min', '25min']]"
   ]
  },
  {
   "cell_type": "code",
   "execution_count": 8,
   "metadata": {},
   "outputs": [
    {
     "data": {
      "text/plain": [
       "[]"
      ]
     },
     "execution_count": 8,
     "metadata": {},
     "output_type": "execute_result"
    },
    {
     "data": {
      "image/png": "[encoded data removed]",
      "text/plain": [
       "<Figure size 432x288 with 1 Axes>"
      ]
     },
     "metadata": {
      "needs_background": "light"
     },
     "output_type": "display_data"
    }
   ],
   "source": [
    "ax = all.plot(style=\"-o\")\n",
    "ax.set_xlabel('Time [hh:mm:ss]')\n",
    "ax.set_ylabel(r'$Q\\,\\left[m^3/s\\right]$')\n",
    "ax.plot()"
   ]
  },
  {
   "cell_type": "markdown",
   "metadata": {},
   "source": [
    "Si valuta il valore massimo di portata tra i massimi ottenuti per tempi diversi di pioggia e il relativo tempo critico"
   ]
  },
  {
   "cell_type": "code",
   "execution_count": 9,
   "metadata": {},
   "outputs": [],
   "source": [
    "n_t1 = node['5min']\n",
    "n_t2 = node['10min']\n",
    "n_t3 = node['15min']\n",
    "n_t4 = node['20min']\n",
    "n_t5 = node['25min']"
   ]
  },
  {
   "cell_type": "code",
   "execution_count": 10,
   "metadata": {},
   "outputs": [
    {
     "data": {
      "text/plain": [
       "[1.67505, 1.929646, 1.8470509999999998, 1.610734, 1.4678360000000001]"
      ]
     },
     "execution_count": 10,
     "metadata": {},
     "output_type": "execute_result"
    }
   ],
   "source": [
    "maxValues = [n_t1.max(), n_t2.max(), n_t3.max(), n_t4.max(), n_t5.max()]\n",
    "maxValues"
   ]
  },
  {
   "cell_type": "markdown",
   "metadata": {},
   "source": [
    "Il valore massimo tra i tempi è $Q_{max}$ e vale"
   ]
  },
  {
   "cell_type": "code",
   "execution_count": 11,
   "metadata": {},
   "outputs": [
    {
     "data": {
      "text/plain": [
       "1.929646"
      ]
     },
     "execution_count": 11,
     "metadata": {},
     "output_type": "execute_result"
    }
   ],
   "source": [
    "maxValue = max(maxValues)\n",
    "maxValue"
   ]
  },
  {
   "cell_type": "markdown",
   "metadata": {},
   "source": [
    "cioè, in litri"
   ]
  },
  {
   "cell_type": "code",
   "execution_count": 13,
   "metadata": {},
   "outputs": [
    {
     "data": {
      "text/plain": [
       "1929.646"
      ]
     },
     "execution_count": 13,
     "metadata": {},
     "output_type": "execute_result"
    }
   ],
   "source": [
    "maxValue * 1000"
   ]
  },
  {
   "cell_type": "markdown",
   "metadata": {},
   "source": [
    "La sua posizione nel file dei massimi è:"
   ]
  },
  {
   "cell_type": "code",
   "execution_count": 14,
   "metadata": {},
   "outputs": [
    {
     "data": {
      "text/plain": [
       "1"
      ]
     },
     "execution_count": 14,
     "metadata": {},
     "output_type": "execute_result"
    }
   ],
   "source": [
    "maxValues.index(maxValue)"
   ]
  },
  {
   "cell_type": "markdown",
   "metadata": {},
   "source": [
    "cioè è causata dalla precipitazione di **10min**."
   ]
  },
  {
   "cell_type": "markdown",
   "metadata": {},
   "source": [
    "Ora ci proponiamo di trovare il tempo in cui il massimo si realizza. Per fare questo dobbiamo considerare il primo dataFrame."
   ]
  },
  {
   "cell_type": "code",
   "execution_count": 15,
   "metadata": {},
   "outputs": [],
   "source": [
    "mask=(n_t2==n_t2.max())"
   ]
  },
  {
   "cell_type": "code",
   "execution_count": 16,
   "metadata": {},
   "outputs": [
    {
     "data": {
      "text/plain": [
       "time\n",
       "00:12:00    1.929646\n",
       "Name: 10min, dtype: float64"
      ]
     },
     "execution_count": 16,
     "metadata": {},
     "output_type": "execute_result"
    }
   ],
   "source": [
    "n_t2[mask]"
   ]
  },
  {
   "cell_type": "markdown",
   "metadata": {},
   "source": [
    "Il tempo di pioggia critico risulta:"
   ]
  },
  {
   "cell_type": "code",
   "execution_count": 17,
   "metadata": {},
   "outputs": [
    {
     "data": {
      "text/plain": [
       "Index(['00:12:00'], dtype='object', name='time')"
      ]
     },
     "execution_count": 17,
     "metadata": {},
     "output_type": "execute_result"
    }
   ],
   "source": [
    "n_t2[mask].index"
   ]
  },
  {
   "cell_type": "markdown",
   "metadata": {},
   "source": [
    "---"
   ]
  }
 ],
 "metadata": {
  "kernelspec": {
   "display_name": "Python 3",
   "language": "python",
   "name": "python3"
  },
  "language_info": {
   "codemirror_mode": {
    "name": "ipython",
    "version": 3
   },
   "file_extension": ".py",
   "mimetype": "text/x-python",
   "name": "python",
   "nbconvert_exporter": "python",
   "pygments_lexer": "ipython3",
   "version": "3.7.3"
  }
 },
 "nbformat": 4,
 "nbformat_minor": 2
}
