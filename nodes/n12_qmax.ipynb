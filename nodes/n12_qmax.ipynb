{
 "cells": [
  {
   "cell_type": "markdown",
   "metadata": {},
   "source": [
    "<h2>Calcolo della massima portata in un nodo</h2>\n",
    "(E' necessario aver svolto le simulazioni per tutti i tempi di pioggia)"
   ]
  },
  {
   "cell_type": "markdown",
   "metadata": {},
   "source": [
    "Si carica la libreria che consente di conoscere e scegliere la directory di lavoro"
   ]
  },
  {
   "cell_type": "code",
   "execution_count": 1,
   "metadata": {},
   "outputs": [
    {
     "data": {
      "text/plain": [
       "'C:\\\\Users\\\\anzo5\\\\Desktop\\\\fognatura\\\\nodes'"
      ]
     },
     "execution_count": 1,
     "metadata": {},
     "output_type": "execute_result"
    }
   ],
   "source": [
    "import os\n",
    "os.getcwd()"
   ]
  },
  {
   "cell_type": "markdown",
   "metadata": {},
   "source": [
    "Si interroga ora la lista dei file presenti nella nuova directory di lavoro. Se corretta sono presenti le cartelle relative alle simulazioni per ogni tempo di pioggia. (5mins, 10mins,...)"
   ]
  },
  {
   "cell_type": "code",
   "execution_count": 2,
   "metadata": {},
   "outputs": [
    {
     "data": {
      "text/plain": [
       "['.ipynb_checkpoints',\n",
       " 'csv',\n",
       " 'desktop.ini',\n",
       " 'n01_qmax.ipynb',\n",
       " 'n02_qmax.ipynb',\n",
       " 'n03_qmax.ipynb',\n",
       " 'n04_qmax.ipynb',\n",
       " 'n10_qmax.ipynb',\n",
       " 'n11_qmax.ipynb',\n",
       " 'n12_qmax.ipynb',\n",
       " 'n13_qmax.ipynb',\n",
       " 'n14_qmax.ipynb',\n",
       " 'n15_qmax.ipynb',\n",
       " 'n16_qmax.ipynb',\n",
       " 'n17_qmax.ipynb',\n",
       " 'n18_qmax.ipynb',\n",
       " 'n19_qmax.ipynb',\n",
       " 'n20_qmax.ipynb',\n",
       " 'n21_qmax.ipynb',\n",
       " 'n22_qmax.ipynb',\n",
       " 'n24_qmax.ipynb',\n",
       " 'n26_qmax.ipynb',\n",
       " 'n29_qmax.ipynb']"
      ]
     },
     "execution_count": 2,
     "metadata": {},
     "output_type": "execute_result"
    }
   ],
   "source": [
    "os.listdir()"
   ]
  },
  {
   "cell_type": "code",
   "execution_count": 3,
   "metadata": {},
   "outputs": [
    {
     "data": {
      "text/plain": [
       "['n00.csv',\n",
       " 'n01.csv',\n",
       " 'n02.csv',\n",
       " 'n03.csv',\n",
       " 'n04.csv',\n",
       " 'n05.csv',\n",
       " 'n06.csv',\n",
       " 'n07.csv',\n",
       " 'n08.csv',\n",
       " 'n09.csv',\n",
       " 'n10.csv',\n",
       " 'n11.csv',\n",
       " 'n12.csv',\n",
       " 'n13.csv',\n",
       " 'n14.csv',\n",
       " 'n15.csv',\n",
       " 'n16.csv',\n",
       " 'n17.csv',\n",
       " 'n18.csv',\n",
       " 'n19.csv',\n",
       " 'n20.csv',\n",
       " 'n21.csv',\n",
       " 'n22.csv',\n",
       " 'n23.csv',\n",
       " 'n24.csv',\n",
       " 'n25.csv',\n",
       " 'n26.csv',\n",
       " 'n27.csv',\n",
       " 'n28.csv',\n",
       " 'n29.csv']"
      ]
     },
     "execution_count": 3,
     "metadata": {},
     "output_type": "execute_result"
    }
   ],
   "source": [
    "os.chdir('csv')\n",
    "os.listdir()"
   ]
  },
  {
   "cell_type": "markdown",
   "metadata": {},
   "source": [
    "Finalmente si importa la libreria \"pandas\""
   ]
  },
  {
   "cell_type": "code",
   "execution_count": 4,
   "metadata": {},
   "outputs": [],
   "source": [
    "from pandas import *\n",
    "import pandas as pd\n",
    "import datetime as datetime\n"
   ]
  },
  {
   "cell_type": "markdown",
   "metadata": {},
   "source": [
    "Si legge il file csv del nodo contenente le portate nel tempo per i diversi tempi di pioggia, usando il comando di panda <code>read_csv</code>"
   ]
  },
  {
   "cell_type": "code",
   "execution_count": 24,
   "metadata": {},
   "outputs": [
    {
     "data": {
      "text/html": [
       "<div>\n",
       "<style scoped>\n",
       "    .dataframe tbody tr th:only-of-type {\n",
       "        vertical-align: middle;\n",
       "    }\n",
       "\n",
       "    .dataframe tbody tr th {\n",
       "        vertical-align: top;\n",
       "    }\n",
       "\n",
       "    .dataframe thead th {\n",
       "        text-align: right;\n",
       "    }\n",
       "</style>\n",
       "<table border=\"1\" class=\"dataframe\">\n",
       "  <thead>\n",
       "    <tr style=\"text-align: right;\">\n",
       "      <th></th>\n",
       "      <th>5min</th>\n",
       "      <th>10min</th>\n",
       "      <th>15min</th>\n",
       "      <th>20min</th>\n",
       "      <th>25min</th>\n",
       "    </tr>\n",
       "    <tr>\n",
       "      <th>time</th>\n",
       "      <th></th>\n",
       "      <th></th>\n",
       "      <th></th>\n",
       "      <th></th>\n",
       "      <th></th>\n",
       "    </tr>\n",
       "  </thead>\n",
       "  <tbody>\n",
       "    <tr>\n",
       "      <th>00:00:30</th>\n",
       "      <td>0.009561</td>\n",
       "      <td>0.004161</td>\n",
       "      <td>0.002504</td>\n",
       "      <td>0.001723</td>\n",
       "      <td>0.001277</td>\n",
       "    </tr>\n",
       "    <tr>\n",
       "      <th>00:01:00</th>\n",
       "      <td>0.020925</td>\n",
       "      <td>0.008982</td>\n",
       "      <td>0.005378</td>\n",
       "      <td>0.003694</td>\n",
       "      <td>0.002734</td>\n",
       "    </tr>\n",
       "    <tr>\n",
       "      <th>00:01:30</th>\n",
       "      <td>0.042599</td>\n",
       "      <td>0.018890</td>\n",
       "      <td>0.011609</td>\n",
       "      <td>0.008158</td>\n",
       "      <td>0.006172</td>\n",
       "    </tr>\n",
       "    <tr>\n",
       "      <th>00:02:00</th>\n",
       "      <td>0.070402</td>\n",
       "      <td>0.031138</td>\n",
       "      <td>0.019173</td>\n",
       "      <td>0.013499</td>\n",
       "      <td>0.010256</td>\n",
       "    </tr>\n",
       "    <tr>\n",
       "      <th>00:02:30</th>\n",
       "      <td>0.103554</td>\n",
       "      <td>0.046210</td>\n",
       "      <td>0.028589</td>\n",
       "      <td>0.020242</td>\n",
       "      <td>0.015463</td>\n",
       "    </tr>\n",
       "    <tr>\n",
       "      <th>00:03:00</th>\n",
       "      <td>0.143560</td>\n",
       "      <td>0.064792</td>\n",
       "      <td>0.040178</td>\n",
       "      <td>0.028468</td>\n",
       "      <td>0.021759</td>\n",
       "    </tr>\n",
       "    <tr>\n",
       "      <th>00:03:30</th>\n",
       "      <td>0.183030</td>\n",
       "      <td>0.084561</td>\n",
       "      <td>0.052893</td>\n",
       "      <td>0.037667</td>\n",
       "      <td>0.028851</td>\n",
       "    </tr>\n",
       "    <tr>\n",
       "      <th>00:04:00</th>\n",
       "      <td>0.224743</td>\n",
       "      <td>0.106514</td>\n",
       "      <td>0.067474</td>\n",
       "      <td>0.048364</td>\n",
       "      <td>0.037192</td>\n",
       "    </tr>\n",
       "    <tr>\n",
       "      <th>00:04:30</th>\n",
       "      <td>0.262103</td>\n",
       "      <td>0.127281</td>\n",
       "      <td>0.081700</td>\n",
       "      <td>0.059122</td>\n",
       "      <td>0.045738</td>\n",
       "    </tr>\n",
       "    <tr>\n",
       "      <th>00:05:00</th>\n",
       "      <td>0.299610</td>\n",
       "      <td>0.148764</td>\n",
       "      <td>0.096785</td>\n",
       "      <td>0.070674</td>\n",
       "      <td>0.055054</td>\n",
       "    </tr>\n",
       "    <tr>\n",
       "      <th>...</th>\n",
       "      <td>...</td>\n",
       "      <td>...</td>\n",
       "      <td>...</td>\n",
       "      <td>...</td>\n",
       "      <td>...</td>\n",
       "    </tr>\n",
       "    <tr>\n",
       "      <th>04:55:30</th>\n",
       "      <td>0.000094</td>\n",
       "      <td>0.000096</td>\n",
       "      <td>0.000099</td>\n",
       "      <td>0.000108</td>\n",
       "      <td>0.000113</td>\n",
       "    </tr>\n",
       "    <tr>\n",
       "      <th>04:56:00</th>\n",
       "      <td>0.000094</td>\n",
       "      <td>0.000095</td>\n",
       "      <td>0.000099</td>\n",
       "      <td>0.000108</td>\n",
       "      <td>0.000112</td>\n",
       "    </tr>\n",
       "    <tr>\n",
       "      <th>04:56:30</th>\n",
       "      <td>0.000093</td>\n",
       "      <td>0.000095</td>\n",
       "      <td>0.000098</td>\n",
       "      <td>0.000107</td>\n",
       "      <td>0.000112</td>\n",
       "    </tr>\n",
       "    <tr>\n",
       "      <th>04:57:00</th>\n",
       "      <td>0.000093</td>\n",
       "      <td>0.000095</td>\n",
       "      <td>0.000098</td>\n",
       "      <td>0.000107</td>\n",
       "      <td>0.000111</td>\n",
       "    </tr>\n",
       "    <tr>\n",
       "      <th>04:57:30</th>\n",
       "      <td>0.000093</td>\n",
       "      <td>0.000094</td>\n",
       "      <td>0.000097</td>\n",
       "      <td>0.000106</td>\n",
       "      <td>0.000111</td>\n",
       "    </tr>\n",
       "    <tr>\n",
       "      <th>04:58:00</th>\n",
       "      <td>0.000092</td>\n",
       "      <td>0.000094</td>\n",
       "      <td>0.000097</td>\n",
       "      <td>0.000106</td>\n",
       "      <td>0.000110</td>\n",
       "    </tr>\n",
       "    <tr>\n",
       "      <th>04:58:30</th>\n",
       "      <td>0.000092</td>\n",
       "      <td>0.000094</td>\n",
       "      <td>0.000097</td>\n",
       "      <td>0.000106</td>\n",
       "      <td>0.000110</td>\n",
       "    </tr>\n",
       "    <tr>\n",
       "      <th>04:59:00</th>\n",
       "      <td>0.000091</td>\n",
       "      <td>0.000093</td>\n",
       "      <td>0.000096</td>\n",
       "      <td>0.000105</td>\n",
       "      <td>0.000109</td>\n",
       "    </tr>\n",
       "    <tr>\n",
       "      <th>04:59:30</th>\n",
       "      <td>0.000091</td>\n",
       "      <td>0.000093</td>\n",
       "      <td>0.000096</td>\n",
       "      <td>0.000105</td>\n",
       "      <td>0.000109</td>\n",
       "    </tr>\n",
       "    <tr>\n",
       "      <th>05:00:00</th>\n",
       "      <td>0.000091</td>\n",
       "      <td>0.000092</td>\n",
       "      <td>0.000095</td>\n",
       "      <td>0.000104</td>\n",
       "      <td>0.000108</td>\n",
       "    </tr>\n",
       "  </tbody>\n",
       "</table>\n",
       "<p>600 rows × 5 columns</p>\n",
       "</div>"
      ],
      "text/plain": [
       "              5min     10min     15min     20min     25min\n",
       "time                                                      \n",
       "00:00:30  0.009561  0.004161  0.002504  0.001723  0.001277\n",
       "00:01:00  0.020925  0.008982  0.005378  0.003694  0.002734\n",
       "00:01:30  0.042599  0.018890  0.011609  0.008158  0.006172\n",
       "00:02:00  0.070402  0.031138  0.019173  0.013499  0.010256\n",
       "00:02:30  0.103554  0.046210  0.028589  0.020242  0.015463\n",
       "00:03:00  0.143560  0.064792  0.040178  0.028468  0.021759\n",
       "00:03:30  0.183030  0.084561  0.052893  0.037667  0.028851\n",
       "00:04:00  0.224743  0.106514  0.067474  0.048364  0.037192\n",
       "00:04:30  0.262103  0.127281  0.081700  0.059122  0.045738\n",
       "00:05:00  0.299610  0.148764  0.096785  0.070674  0.055054\n",
       "...            ...       ...       ...       ...       ...\n",
       "04:55:30  0.000094  0.000096  0.000099  0.000108  0.000113\n",
       "04:56:00  0.000094  0.000095  0.000099  0.000108  0.000112\n",
       "04:56:30  0.000093  0.000095  0.000098  0.000107  0.000112\n",
       "04:57:00  0.000093  0.000095  0.000098  0.000107  0.000111\n",
       "04:57:30  0.000093  0.000094  0.000097  0.000106  0.000111\n",
       "04:58:00  0.000092  0.000094  0.000097  0.000106  0.000110\n",
       "04:58:30  0.000092  0.000094  0.000097  0.000106  0.000110\n",
       "04:59:00  0.000091  0.000093  0.000096  0.000105  0.000109\n",
       "04:59:30  0.000091  0.000093  0.000096  0.000105  0.000109\n",
       "05:00:00  0.000091  0.000092  0.000095  0.000104  0.000108\n",
       "\n",
       "[600 rows x 5 columns]"
      ]
     },
     "execution_count": 24,
     "metadata": {},
     "output_type": "execute_result"
    }
   ],
   "source": [
    "pd.options.display.max_rows = 20\n",
    "node = pd.read_csv('n12.csv')\n",
    "map(datetime, node['time'])\n",
    "node = node.set_index('time')\n",
    "node"
   ]
  },
  {
   "cell_type": "markdown",
   "metadata": {},
   "source": [
    "Finalmente visualizziamo i dati con matplotlib. Il secondo comando, preceduto da \"%\" consente di visualizzare automaticamente sullo schermo il risultato grafico. "
   ]
  },
  {
   "cell_type": "code",
   "execution_count": 25,
   "metadata": {},
   "outputs": [],
   "source": [
    "import matplotlib.pyplot as plt\n",
    "%matplotlib inline "
   ]
  },
  {
   "cell_type": "markdown",
   "metadata": {},
   "source": [
    "Si visualizzano le curve di portata rispetto all'andamento nel tempo per un controllo ulteriore"
   ]
  },
  {
   "cell_type": "code",
   "execution_count": 26,
   "metadata": {},
   "outputs": [],
   "source": [
    "all=node[['5min','10min', '15min', '20min', '25min']]"
   ]
  },
  {
   "cell_type": "code",
   "execution_count": 27,
   "metadata": {},
   "outputs": [
    {
     "data": {
      "text/plain": [
       "[]"
      ]
     },
     "execution_count": 27,
     "metadata": {},
     "output_type": "execute_result"
    },
    {
     "data": {
      "image/png": "[encoded data removed]",
      "text/plain": [
       "<Figure size 432x288 with 1 Axes>"
      ]
     },
     "metadata": {
      "needs_background": "light"
     },
     "output_type": "display_data"
    }
   ],
   "source": [
    "ax = all.plot(style=\"-o\")\n",
    "ax.set_xlabel('Time [hh:mm:ss]')\n",
    "ax.set_ylabel(r'$Q\\,\\left[m^3/s\\right]$')\n",
    "ax.plot()"
   ]
  },
  {
   "cell_type": "markdown",
   "metadata": {},
   "source": [
    "Si valuta il valore massimo di portata tra i massimi ottenuti per tempi diversi di pioggia e il relativo tempo critico"
   ]
  },
  {
   "cell_type": "code",
   "execution_count": 28,
   "metadata": {},
   "outputs": [],
   "source": [
    "n_t1 = node['5min']\n",
    "n_t2 = node['10min']\n",
    "n_t3 = node['15min']\n",
    "n_t4 = node['20min']\n",
    "n_t5 = node['25min']"
   ]
  },
  {
   "cell_type": "code",
   "execution_count": 29,
   "metadata": {},
   "outputs": [
    {
     "data": {
      "text/plain": [
       "[0.29961, 0.302252, 0.27229699999999996, 0.233429, 0.211194]"
      ]
     },
     "execution_count": 29,
     "metadata": {},
     "output_type": "execute_result"
    }
   ],
   "source": [
    "maxValues = [n_t1.max(), n_t2.max(), n_t3.max(), n_t4.max(), n_t5.max()]\n",
    "maxValues"
   ]
  },
  {
   "cell_type": "markdown",
   "metadata": {},
   "source": [
    "Il valore massimo tra i tempi è $Q_{max}$ e vale"
   ]
  },
  {
   "cell_type": "code",
   "execution_count": 30,
   "metadata": {},
   "outputs": [
    {
     "data": {
      "text/plain": [
       "0.302252"
      ]
     },
     "execution_count": 30,
     "metadata": {},
     "output_type": "execute_result"
    }
   ],
   "source": [
    "maxValue = max(maxValues)\n",
    "maxValue"
   ]
  },
  {
   "cell_type": "markdown",
   "metadata": {},
   "source": [
    "cioè, in litri"
   ]
  },
  {
   "cell_type": "code",
   "execution_count": 32,
   "metadata": {},
   "outputs": [
    {
     "data": {
      "text/plain": [
       "302.252"
      ]
     },
     "execution_count": 32,
     "metadata": {},
     "output_type": "execute_result"
    }
   ],
   "source": [
    "maxValue * 1000"
   ]
  },
  {
   "cell_type": "markdown",
   "metadata": {},
   "source": [
    "La sua posizione nel file dei massimi è:"
   ]
  },
  {
   "cell_type": "code",
   "execution_count": 33,
   "metadata": {},
   "outputs": [
    {
     "data": {
      "text/plain": [
       "1"
      ]
     },
     "execution_count": 33,
     "metadata": {},
     "output_type": "execute_result"
    }
   ],
   "source": [
    "maxValues.index(maxValue)"
   ]
  },
  {
   "cell_type": "markdown",
   "metadata": {},
   "source": [
    "cioè è causata dalla precipitazione di **10min**."
   ]
  },
  {
   "cell_type": "markdown",
   "metadata": {},
   "source": [
    "Ora ci proponiamo di trovare il tempo in cui il massimo si realizza. Per fare questo dobbiamo considerare il primo dataFrame."
   ]
  },
  {
   "cell_type": "code",
   "execution_count": 34,
   "metadata": {},
   "outputs": [],
   "source": [
    "mask=(n_t2==n_t2.max())"
   ]
  },
  {
   "cell_type": "code",
   "execution_count": 35,
   "metadata": {},
   "outputs": [
    {
     "data": {
      "text/plain": [
       "time\n",
       "00:00:30    False\n",
       "00:01:00    False\n",
       "00:01:30    False\n",
       "00:02:00    False\n",
       "00:02:30    False\n",
       "00:03:00    False\n",
       "00:03:30    False\n",
       "00:04:00    False\n",
       "00:04:30    False\n",
       "00:05:00    False\n",
       "            ...  \n",
       "04:55:30    False\n",
       "04:56:00    False\n",
       "04:56:30    False\n",
       "04:57:00    False\n",
       "04:57:30    False\n",
       "04:58:00    False\n",
       "04:58:30    False\n",
       "04:59:00    False\n",
       "04:59:30    False\n",
       "05:00:00    False\n",
       "Name: 10min, Length: 600, dtype: bool"
      ]
     },
     "execution_count": 35,
     "metadata": {},
     "output_type": "execute_result"
    }
   ],
   "source": [
    "n_t2==n_t2.max()"
   ]
  },
  {
   "cell_type": "code",
   "execution_count": 36,
   "metadata": {},
   "outputs": [
    {
     "data": {
      "text/plain": [
       "time\n",
       "00:10:00    0.302252\n",
       "Name: 10min, dtype: float64"
      ]
     },
     "execution_count": 36,
     "metadata": {},
     "output_type": "execute_result"
    }
   ],
   "source": [
    "n_t2[mask]"
   ]
  },
  {
   "cell_type": "markdown",
   "metadata": {},
   "source": [
    "Il tempo di pioggia critico risulta:"
   ]
  },
  {
   "cell_type": "code",
   "execution_count": 37,
   "metadata": {},
   "outputs": [
    {
     "data": {
      "text/plain": [
       "Index(['00:10:00'], dtype='object', name='time')"
      ]
     },
     "execution_count": 37,
     "metadata": {},
     "output_type": "execute_result"
    }
   ],
   "source": [
    "n_t2[mask].index"
   ]
  },
  {
   "cell_type": "markdown",
   "metadata": {},
   "source": [
    "---"
   ]
  }
 ],
 "metadata": {
  "kernelspec": {
   "display_name": "Python 3",
   "language": "python",
   "name": "python3"
  },
  "language_info": {
   "codemirror_mode": {
    "name": "ipython",
    "version": 3
   },
   "file_extension": ".py",
   "mimetype": "text/x-python",
   "name": "python",
   "nbconvert_exporter": "python",
   "pygments_lexer": "ipython3",
   "version": "3.7.3"
  }
 },
 "nbformat": 4,
 "nbformat_minor": 2
}
