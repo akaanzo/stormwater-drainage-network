{
 "cells": [
  {
   "cell_type": "markdown",
   "metadata": {},
   "source": [
    "<h2>Calcolo della massima portata in un nodo</h2>\n",
    "(E' necessario aver svolto le simulazioni per tutti i tempi di pioggia)"
   ]
  },
  {
   "cell_type": "markdown",
   "metadata": {},
   "source": [
    "Si carica la libreria che consente di conoscere e scegliere la directory di lavoro"
   ]
  },
  {
   "cell_type": "code",
   "execution_count": 1,
   "metadata": {},
   "outputs": [
    {
     "data": {
      "text/plain": [
       "'C:\\\\Users\\\\anzo5\\\\Desktop\\\\fognatura\\\\nodes'"
      ]
     },
     "execution_count": 1,
     "metadata": {},
     "output_type": "execute_result"
    }
   ],
   "source": [
    "import os\n",
    "os.getcwd()"
   ]
  },
  {
   "cell_type": "markdown",
   "metadata": {},
   "source": [
    "Si interroga ora la lista dei file presenti nella nuova directory di lavoro. Se corretta sono presenti le cartelle relative alle simulazioni per ogni tempo di pioggia. (5mins, 10mins,...)"
   ]
  },
  {
   "cell_type": "code",
   "execution_count": 2,
   "metadata": {},
   "outputs": [
    {
     "data": {
      "text/plain": [
       "['.ipynb_checkpoints',\n",
       " 'csv',\n",
       " 'desktop.ini',\n",
       " 'n01_qmax.ipynb',\n",
       " 'n02_qmax.ipynb',\n",
       " 'n03_qmax.ipynb',\n",
       " 'n04_qmax.ipynb',\n",
       " 'n10_qmax.ipynb',\n",
       " 'n11_qmax.ipynb',\n",
       " 'n12_qmax.ipynb',\n",
       " 'n13_qmax.ipynb',\n",
       " 'n14_qmax.ipynb',\n",
       " 'n15_qmax.ipynb',\n",
       " 'n16_qmax.ipynb',\n",
       " 'n17_qmax.ipynb',\n",
       " 'n18_qmax.ipynb',\n",
       " 'n19_qmax.ipynb',\n",
       " 'n20_qmax.ipynb',\n",
       " 'n21_qmax.ipynb',\n",
       " 'n22_qmax.ipynb',\n",
       " 'n24_qmax.ipynb',\n",
       " 'n26_qmax.ipynb',\n",
       " 'n29_qmax.ipynb']"
      ]
     },
     "execution_count": 2,
     "metadata": {},
     "output_type": "execute_result"
    }
   ],
   "source": [
    "os.listdir()"
   ]
  },
  {
   "cell_type": "code",
   "execution_count": 3,
   "metadata": {},
   "outputs": [
    {
     "data": {
      "text/plain": [
       "['n00.csv',\n",
       " 'n01.csv',\n",
       " 'n02.csv',\n",
       " 'n03.csv',\n",
       " 'n04.csv',\n",
       " 'n05.csv',\n",
       " 'n06.csv',\n",
       " 'n07.csv',\n",
       " 'n08.csv',\n",
       " 'n09.csv',\n",
       " 'n10.csv',\n",
       " 'n11.csv',\n",
       " 'n12.csv',\n",
       " 'n13.csv',\n",
       " 'n14.csv',\n",
       " 'n15.csv',\n",
       " 'n16.csv',\n",
       " 'n17.csv',\n",
       " 'n18.csv',\n",
       " 'n19.csv',\n",
       " 'n20.csv',\n",
       " 'n21.csv',\n",
       " 'n22.csv',\n",
       " 'n23.csv',\n",
       " 'n24.csv',\n",
       " 'n25.csv',\n",
       " 'n26.csv',\n",
       " 'n27.csv',\n",
       " 'n28.csv',\n",
       " 'n29.csv']"
      ]
     },
     "execution_count": 3,
     "metadata": {},
     "output_type": "execute_result"
    }
   ],
   "source": [
    "os.chdir('csv')\n",
    "os.listdir()"
   ]
  },
  {
   "cell_type": "markdown",
   "metadata": {},
   "source": [
    "Finalmente si importa la libreria \"pandas\""
   ]
  },
  {
   "cell_type": "code",
   "execution_count": 4,
   "metadata": {},
   "outputs": [],
   "source": [
    "from pandas import *\n",
    "import pandas as pd\n",
    "import datetime as datetime\n"
   ]
  },
  {
   "cell_type": "markdown",
   "metadata": {},
   "source": [
    "Si legge il file csv del nodo contenente le portate nel tempo per i diversi tempi di pioggia, usando il comando di panda <code>read_csv</code>"
   ]
  },
  {
   "cell_type": "code",
   "execution_count": 5,
   "metadata": {},
   "outputs": [
    {
     "data": {
      "text/html": [
       "<div>\n",
       "<style scoped>\n",
       "    .dataframe tbody tr th:only-of-type {\n",
       "        vertical-align: middle;\n",
       "    }\n",
       "\n",
       "    .dataframe tbody tr th {\n",
       "        vertical-align: top;\n",
       "    }\n",
       "\n",
       "    .dataframe thead th {\n",
       "        text-align: right;\n",
       "    }\n",
       "</style>\n",
       "<table border=\"1\" class=\"dataframe\">\n",
       "  <thead>\n",
       "    <tr style=\"text-align: right;\">\n",
       "      <th></th>\n",
       "      <th>5min</th>\n",
       "      <th>10min</th>\n",
       "      <th>15min</th>\n",
       "      <th>20min</th>\n",
       "      <th>25min</th>\n",
       "    </tr>\n",
       "    <tr>\n",
       "      <th>time</th>\n",
       "      <th></th>\n",
       "      <th></th>\n",
       "      <th></th>\n",
       "      <th></th>\n",
       "      <th></th>\n",
       "    </tr>\n",
       "  </thead>\n",
       "  <tbody>\n",
       "    <tr>\n",
       "      <th>00:00:30</th>\n",
       "      <td>0.008931</td>\n",
       "      <td>0.003806</td>\n",
       "      <td>0.002280</td>\n",
       "      <td>0.001558</td>\n",
       "      <td>0.001152</td>\n",
       "    </tr>\n",
       "    <tr>\n",
       "      <th>00:01:00</th>\n",
       "      <td>0.024220</td>\n",
       "      <td>0.009725</td>\n",
       "      <td>0.005633</td>\n",
       "      <td>0.003785</td>\n",
       "      <td>0.002769</td>\n",
       "    </tr>\n",
       "    <tr>\n",
       "      <th>00:01:30</th>\n",
       "      <td>0.058000</td>\n",
       "      <td>0.023456</td>\n",
       "      <td>0.013662</td>\n",
       "      <td>0.009274</td>\n",
       "      <td>0.006827</td>\n",
       "    </tr>\n",
       "    <tr>\n",
       "      <th>00:02:00</th>\n",
       "      <td>0.113549</td>\n",
       "      <td>0.045580</td>\n",
       "      <td>0.026392</td>\n",
       "      <td>0.017854</td>\n",
       "      <td>0.013079</td>\n",
       "    </tr>\n",
       "    <tr>\n",
       "      <th>00:02:30</th>\n",
       "      <td>0.192922</td>\n",
       "      <td>0.078099</td>\n",
       "      <td>0.045395</td>\n",
       "      <td>0.030656</td>\n",
       "      <td>0.022531</td>\n",
       "    </tr>\n",
       "    <tr>\n",
       "      <th>00:03:00</th>\n",
       "      <td>0.298444</td>\n",
       "      <td>0.123033</td>\n",
       "      <td>0.071865</td>\n",
       "      <td>0.048743</td>\n",
       "      <td>0.035906</td>\n",
       "    </tr>\n",
       "    <tr>\n",
       "      <th>00:03:30</th>\n",
       "      <td>0.415114</td>\n",
       "      <td>0.178027</td>\n",
       "      <td>0.105274</td>\n",
       "      <td>0.071784</td>\n",
       "      <td>0.053040</td>\n",
       "    </tr>\n",
       "    <tr>\n",
       "      <th>00:04:00</th>\n",
       "      <td>0.533070</td>\n",
       "      <td>0.238653</td>\n",
       "      <td>0.144545</td>\n",
       "      <td>0.099979</td>\n",
       "      <td>0.074630</td>\n",
       "    </tr>\n",
       "    <tr>\n",
       "      <th>00:04:30</th>\n",
       "      <td>0.645822</td>\n",
       "      <td>0.300916</td>\n",
       "      <td>0.186082</td>\n",
       "      <td>0.130438</td>\n",
       "      <td>0.098234</td>\n",
       "    </tr>\n",
       "    <tr>\n",
       "      <th>00:05:00</th>\n",
       "      <td>0.750897</td>\n",
       "      <td>0.363939</td>\n",
       "      <td>0.229758</td>\n",
       "      <td>0.163367</td>\n",
       "      <td>0.124314</td>\n",
       "    </tr>\n",
       "    <tr>\n",
       "      <th>...</th>\n",
       "      <td>...</td>\n",
       "      <td>...</td>\n",
       "      <td>...</td>\n",
       "      <td>...</td>\n",
       "      <td>...</td>\n",
       "    </tr>\n",
       "    <tr>\n",
       "      <th>04:55:30</th>\n",
       "      <td>0.000080</td>\n",
       "      <td>0.000083</td>\n",
       "      <td>0.000087</td>\n",
       "      <td>0.000090</td>\n",
       "      <td>0.000094</td>\n",
       "    </tr>\n",
       "    <tr>\n",
       "      <th>04:56:00</th>\n",
       "      <td>0.000080</td>\n",
       "      <td>0.000083</td>\n",
       "      <td>0.000086</td>\n",
       "      <td>0.000089</td>\n",
       "      <td>0.000093</td>\n",
       "    </tr>\n",
       "    <tr>\n",
       "      <th>04:56:30</th>\n",
       "      <td>0.000080</td>\n",
       "      <td>0.000083</td>\n",
       "      <td>0.000086</td>\n",
       "      <td>0.000089</td>\n",
       "      <td>0.000093</td>\n",
       "    </tr>\n",
       "    <tr>\n",
       "      <th>04:57:00</th>\n",
       "      <td>0.000079</td>\n",
       "      <td>0.000082</td>\n",
       "      <td>0.000086</td>\n",
       "      <td>0.000089</td>\n",
       "      <td>0.000092</td>\n",
       "    </tr>\n",
       "    <tr>\n",
       "      <th>04:57:30</th>\n",
       "      <td>0.000079</td>\n",
       "      <td>0.000082</td>\n",
       "      <td>0.000085</td>\n",
       "      <td>0.000088</td>\n",
       "      <td>0.000092</td>\n",
       "    </tr>\n",
       "    <tr>\n",
       "      <th>04:58:00</th>\n",
       "      <td>0.000079</td>\n",
       "      <td>0.000082</td>\n",
       "      <td>0.000085</td>\n",
       "      <td>0.000088</td>\n",
       "      <td>0.000091</td>\n",
       "    </tr>\n",
       "    <tr>\n",
       "      <th>04:58:30</th>\n",
       "      <td>0.000078</td>\n",
       "      <td>0.000081</td>\n",
       "      <td>0.000084</td>\n",
       "      <td>0.000087</td>\n",
       "      <td>0.000091</td>\n",
       "    </tr>\n",
       "    <tr>\n",
       "      <th>04:59:00</th>\n",
       "      <td>0.000078</td>\n",
       "      <td>0.000081</td>\n",
       "      <td>0.000084</td>\n",
       "      <td>0.000087</td>\n",
       "      <td>0.000091</td>\n",
       "    </tr>\n",
       "    <tr>\n",
       "      <th>04:59:30</th>\n",
       "      <td>0.000078</td>\n",
       "      <td>0.000081</td>\n",
       "      <td>0.000084</td>\n",
       "      <td>0.000087</td>\n",
       "      <td>0.000090</td>\n",
       "    </tr>\n",
       "    <tr>\n",
       "      <th>05:00:00</th>\n",
       "      <td>0.000077</td>\n",
       "      <td>0.000080</td>\n",
       "      <td>0.000083</td>\n",
       "      <td>0.000086</td>\n",
       "      <td>0.000090</td>\n",
       "    </tr>\n",
       "  </tbody>\n",
       "</table>\n",
       "<p>600 rows × 5 columns</p>\n",
       "</div>"
      ],
      "text/plain": [
       "              5min     10min     15min     20min     25min\n",
       "time                                                      \n",
       "00:00:30  0.008931  0.003806  0.002280  0.001558  0.001152\n",
       "00:01:00  0.024220  0.009725  0.005633  0.003785  0.002769\n",
       "00:01:30  0.058000  0.023456  0.013662  0.009274  0.006827\n",
       "00:02:00  0.113549  0.045580  0.026392  0.017854  0.013079\n",
       "00:02:30  0.192922  0.078099  0.045395  0.030656  0.022531\n",
       "00:03:00  0.298444  0.123033  0.071865  0.048743  0.035906\n",
       "00:03:30  0.415114  0.178027  0.105274  0.071784  0.053040\n",
       "00:04:00  0.533070  0.238653  0.144545  0.099979  0.074630\n",
       "00:04:30  0.645822  0.300916  0.186082  0.130438  0.098234\n",
       "00:05:00  0.750897  0.363939  0.229758  0.163367  0.124314\n",
       "...            ...       ...       ...       ...       ...\n",
       "04:55:30  0.000080  0.000083  0.000087  0.000090  0.000094\n",
       "04:56:00  0.000080  0.000083  0.000086  0.000089  0.000093\n",
       "04:56:30  0.000080  0.000083  0.000086  0.000089  0.000093\n",
       "04:57:00  0.000079  0.000082  0.000086  0.000089  0.000092\n",
       "04:57:30  0.000079  0.000082  0.000085  0.000088  0.000092\n",
       "04:58:00  0.000079  0.000082  0.000085  0.000088  0.000091\n",
       "04:58:30  0.000078  0.000081  0.000084  0.000087  0.000091\n",
       "04:59:00  0.000078  0.000081  0.000084  0.000087  0.000091\n",
       "04:59:30  0.000078  0.000081  0.000084  0.000087  0.000090\n",
       "05:00:00  0.000077  0.000080  0.000083  0.000086  0.000090\n",
       "\n",
       "[600 rows x 5 columns]"
      ]
     },
     "execution_count": 5,
     "metadata": {},
     "output_type": "execute_result"
    }
   ],
   "source": [
    "pd.options.display.max_rows = 20\n",
    "node = pd.read_csv('n15.csv')\n",
    "map(datetime, node['time'])\n",
    "node = node.set_index('time')\n",
    "node"
   ]
  },
  {
   "cell_type": "markdown",
   "metadata": {},
   "source": [
    "Finalmente visualizziamo i dati con matplotlib. Il secondo comando, preceduto da \"%\" consente di visualizzare automaticamente sullo schermo il risultato grafico. "
   ]
  },
  {
   "cell_type": "code",
   "execution_count": 6,
   "metadata": {},
   "outputs": [],
   "source": [
    "import matplotlib.pyplot as plt\n",
    "%matplotlib inline "
   ]
  },
  {
   "cell_type": "markdown",
   "metadata": {},
   "source": [
    "Si visualizzano le curve di portata rispetto all'andamento nel tempo per un controllo ulteriore"
   ]
  },
  {
   "cell_type": "code",
   "execution_count": 7,
   "metadata": {},
   "outputs": [],
   "source": [
    "all=node[['5min','10min', '15min', '20min', '25min']]"
   ]
  },
  {
   "cell_type": "code",
   "execution_count": 8,
   "metadata": {},
   "outputs": [
    {
     "data": {
      "text/plain": [
       "[]"
      ]
     },
     "execution_count": 8,
     "metadata": {},
     "output_type": "execute_result"
    },
    {
     "data": {
      "image/png": "[encoded data removed]",
      "text/plain": [
       "<Figure size 432x288 with 1 Axes>"
      ]
     },
     "metadata": {
      "needs_background": "light"
     },
     "output_type": "display_data"
    }
   ],
   "source": [
    "ax = all.plot(style=\"-o\")\n",
    "ax.set_xlabel('Time [hh:mm:ss]')\n",
    "ax.set_ylabel(r'$Q\\,\\left[m^3/s\\right]$')\n",
    "ax.plot()"
   ]
  },
  {
   "cell_type": "markdown",
   "metadata": {},
   "source": [
    "Si valuta il valore massimo di portata tra i massimi ottenuti per tempi diversi di pioggia e il relativo tempo critico"
   ]
  },
  {
   "cell_type": "code",
   "execution_count": 9,
   "metadata": {},
   "outputs": [],
   "source": [
    "n_t1 = node['5min']\n",
    "n_t2 = node['10min']\n",
    "n_t3 = node['15min']\n",
    "n_t4 = node['20min']\n",
    "n_t5 = node['25min']"
   ]
  },
  {
   "cell_type": "code",
   "execution_count": 10,
   "metadata": {},
   "outputs": [
    {
     "data": {
      "text/plain": [
       "[0.793327, 0.734296, 0.610075, 0.509794, 0.44447200000000003]"
      ]
     },
     "execution_count": 10,
     "metadata": {},
     "output_type": "execute_result"
    }
   ],
   "source": [
    "maxValues = [n_t1.max(), n_t2.max(), n_t3.max(), n_t4.max(), n_t5.max()]\n",
    "maxValues"
   ]
  },
  {
   "cell_type": "markdown",
   "metadata": {},
   "source": [
    "Il valore massimo tra i tempi è $Q_{max}$ e vale"
   ]
  },
  {
   "cell_type": "code",
   "execution_count": 11,
   "metadata": {},
   "outputs": [
    {
     "data": {
      "text/plain": [
       "0.793327"
      ]
     },
     "execution_count": 11,
     "metadata": {},
     "output_type": "execute_result"
    }
   ],
   "source": [
    "maxValue = max(maxValues)\n",
    "maxValue"
   ]
  },
  {
   "cell_type": "markdown",
   "metadata": {},
   "source": [
    "cioè, in litri"
   ]
  },
  {
   "cell_type": "code",
   "execution_count": 14,
   "metadata": {},
   "outputs": [
    {
     "data": {
      "text/plain": [
       "793.327"
      ]
     },
     "execution_count": 14,
     "metadata": {},
     "output_type": "execute_result"
    }
   ],
   "source": [
    "maxValue * 1000"
   ]
  },
  {
   "cell_type": "markdown",
   "metadata": {},
   "source": [
    "La sua posizione nel file dei massimi è:"
   ]
  },
  {
   "cell_type": "code",
   "execution_count": 15,
   "metadata": {},
   "outputs": [
    {
     "data": {
      "text/plain": [
       "0"
      ]
     },
     "execution_count": 15,
     "metadata": {},
     "output_type": "execute_result"
    }
   ],
   "source": [
    "maxValues.index(maxValue)"
   ]
  },
  {
   "cell_type": "markdown",
   "metadata": {},
   "source": [
    "cioè è causata dalla precipitazione di **5min**."
   ]
  },
  {
   "cell_type": "markdown",
   "metadata": {},
   "source": [
    "Ora ci proponiamo di trovare il tempo in cui il massimo si realizza. Per fare questo dobbiamo considerare il primo dataFrame."
   ]
  },
  {
   "cell_type": "code",
   "execution_count": 16,
   "metadata": {},
   "outputs": [],
   "source": [
    "mask=(n_t1==n_t1.max())"
   ]
  },
  {
   "cell_type": "code",
   "execution_count": 17,
   "metadata": {},
   "outputs": [
    {
     "data": {
      "text/plain": [
       "time\n",
       "00:05:30    0.793327\n",
       "Name: 5min, dtype: float64"
      ]
     },
     "execution_count": 17,
     "metadata": {},
     "output_type": "execute_result"
    }
   ],
   "source": [
    "n_t1[mask]"
   ]
  },
  {
   "cell_type": "markdown",
   "metadata": {},
   "source": [
    "Il tempo di pioggia critico risulta:"
   ]
  },
  {
   "cell_type": "code",
   "execution_count": 18,
   "metadata": {},
   "outputs": [
    {
     "data": {
      "text/plain": [
       "Index(['00:05:30'], dtype='object', name='time')"
      ]
     },
     "execution_count": 18,
     "metadata": {},
     "output_type": "execute_result"
    }
   ],
   "source": [
    "n_t1[mask].index"
   ]
  },
  {
   "cell_type": "markdown",
   "metadata": {},
   "source": [
    "---"
   ]
  }
 ],
 "metadata": {
  "kernelspec": {
   "display_name": "Python 3",
   "language": "python",
   "name": "python3"
  },
  "language_info": {
   "codemirror_mode": {
    "name": "ipython",
    "version": 3
   },
   "file_extension": ".py",
   "mimetype": "text/x-python",
   "name": "python",
   "nbconvert_exporter": "python",
   "pygments_lexer": "ipython3",
   "version": "3.7.3"
  }
 },
 "nbformat": 4,
 "nbformat_minor": 2
}
