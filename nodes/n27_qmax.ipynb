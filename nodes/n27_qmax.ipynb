{
 "cells": [
  {
   "cell_type": "markdown",
   "metadata": {},
   "source": [
    "<h2>Calcolo della massima portata in un nodo</h2>\n",
    "(E' necessario aver svolto le simulazioni per tutti i tempi di pioggia)"
   ]
  },
  {
   "cell_type": "markdown",
   "metadata": {},
   "source": [
    "Si carica la libreria che consente di conoscere e scegliere la directory di lavoro"
   ]
  },
  {
   "cell_type": "code",
   "execution_count": 1,
   "metadata": {},
   "outputs": [
    {
     "data": {
      "text/plain": [
       "'C:\\\\Users\\\\anzo5\\\\Desktop\\\\fognatura\\\\nodes'"
      ]
     },
     "execution_count": 1,
     "metadata": {},
     "output_type": "execute_result"
    }
   ],
   "source": [
    "import os\n",
    "os.getcwd()"
   ]
  },
  {
   "cell_type": "markdown",
   "metadata": {},
   "source": [
    "Si interroga ora la lista dei file presenti nella nuova directory di lavoro. Se corretta sono presenti le cartelle relative alle simulazioni per ogni tempo di pioggia. (5mins, 10mins,...)"
   ]
  },
  {
   "cell_type": "code",
   "execution_count": 2,
   "metadata": {},
   "outputs": [
    {
     "data": {
      "text/plain": [
       "['.ipynb_checkpoints',\n",
       " 'csv',\n",
       " 'desktop.ini',\n",
       " 'n01_qmax.ipynb',\n",
       " 'n02_qmax.ipynb',\n",
       " 'n03_qmax.ipynb',\n",
       " 'n04_qmax.ipynb',\n",
       " 'n05_qmax.ipynb',\n",
       " 'n06_qmax.ipynb',\n",
       " 'n07_qmax.ipynb',\n",
       " 'n08_qmax.ipynb',\n",
       " 'n10_qmax.ipynb',\n",
       " 'n11_qmax.ipynb',\n",
       " 'n12_qmax.ipynb',\n",
       " 'n13_qmax.ipynb',\n",
       " 'n14_qmax.ipynb',\n",
       " 'n15_qmax.ipynb',\n",
       " 'n16_qmax.ipynb',\n",
       " 'n17_qmax.ipynb',\n",
       " 'n18_qmax.ipynb',\n",
       " 'n19_qmax.ipynb',\n",
       " 'n20_qmax.ipynb',\n",
       " 'n21_qmax.ipynb',\n",
       " 'n22_qmax.ipynb',\n",
       " 'n23_qmax.ipynb',\n",
       " 'n24_qmax.ipynb',\n",
       " 'n25_qmax.ipynb',\n",
       " 'n26_qmax.ipynb',\n",
       " 'n27_qmax.ipynb',\n",
       " 'n28_qmax.ipynb',\n",
       " 'n29_qmax.ipynb']"
      ]
     },
     "execution_count": 2,
     "metadata": {},
     "output_type": "execute_result"
    }
   ],
   "source": [
    "os.listdir()"
   ]
  },
  {
   "cell_type": "code",
   "execution_count": 3,
   "metadata": {},
   "outputs": [
    {
     "data": {
      "text/plain": [
       "['.~lock.n27.csv#',\n",
       " 'n00.csv',\n",
       " 'n01.csv',\n",
       " 'n02.csv',\n",
       " 'n03.csv',\n",
       " 'n04.csv',\n",
       " 'n05.csv',\n",
       " 'n06.csv',\n",
       " 'n07.csv',\n",
       " 'n08.csv',\n",
       " 'n09.csv',\n",
       " 'n10.csv',\n",
       " 'n11.csv',\n",
       " 'n12.csv',\n",
       " 'n13.csv',\n",
       " 'n14.csv',\n",
       " 'n15.csv',\n",
       " 'n16.csv',\n",
       " 'n17.csv',\n",
       " 'n18.csv',\n",
       " 'n19.csv',\n",
       " 'n20.csv',\n",
       " 'n21.csv',\n",
       " 'n22.csv',\n",
       " 'n23.csv',\n",
       " 'n24.csv',\n",
       " 'n25.csv',\n",
       " 'n26.csv',\n",
       " 'n27.csv',\n",
       " 'n28.csv',\n",
       " 'n29.csv']"
      ]
     },
     "execution_count": 3,
     "metadata": {},
     "output_type": "execute_result"
    }
   ],
   "source": [
    "os.chdir('csv')\n",
    "os.listdir()"
   ]
  },
  {
   "cell_type": "markdown",
   "metadata": {},
   "source": [
    "Finalmente si importa la libreria \"pandas\""
   ]
  },
  {
   "cell_type": "code",
   "execution_count": 4,
   "metadata": {},
   "outputs": [],
   "source": [
    "from pandas import *\n",
    "import pandas as pd\n",
    "import datetime as datetime\n"
   ]
  },
  {
   "cell_type": "markdown",
   "metadata": {},
   "source": [
    "Si legge il file csv del nodo contenente le portate nel tempo per i diversi tempi di pioggia, usando il comando di panda <code>read_csv</code>"
   ]
  },
  {
   "cell_type": "code",
   "execution_count": 5,
   "metadata": {},
   "outputs": [
    {
     "data": {
      "text/html": [
       "<div>\n",
       "<style scoped>\n",
       "    .dataframe tbody tr th:only-of-type {\n",
       "        vertical-align: middle;\n",
       "    }\n",
       "\n",
       "    .dataframe tbody tr th {\n",
       "        vertical-align: top;\n",
       "    }\n",
       "\n",
       "    .dataframe thead th {\n",
       "        text-align: right;\n",
       "    }\n",
       "</style>\n",
       "<table border=\"1\" class=\"dataframe\">\n",
       "  <thead>\n",
       "    <tr style=\"text-align: right;\">\n",
       "      <th></th>\n",
       "      <th>5min</th>\n",
       "      <th>10min</th>\n",
       "      <th>15min</th>\n",
       "      <th>20min</th>\n",
       "      <th>25min</th>\n",
       "    </tr>\n",
       "    <tr>\n",
       "      <th>time</th>\n",
       "      <th></th>\n",
       "      <th></th>\n",
       "      <th></th>\n",
       "      <th></th>\n",
       "      <th></th>\n",
       "    </tr>\n",
       "  </thead>\n",
       "  <tbody>\n",
       "    <tr>\n",
       "      <th>00:00:30</th>\n",
       "      <td>0.005100</td>\n",
       "      <td>0.002231</td>\n",
       "      <td>0.001348</td>\n",
       "      <td>0.000930</td>\n",
       "      <td>0.000691</td>\n",
       "    </tr>\n",
       "    <tr>\n",
       "      <th>00:01:00</th>\n",
       "      <td>0.010961</td>\n",
       "      <td>0.004784</td>\n",
       "      <td>0.002887</td>\n",
       "      <td>0.001992</td>\n",
       "      <td>0.001480</td>\n",
       "    </tr>\n",
       "    <tr>\n",
       "      <th>00:01:30</th>\n",
       "      <td>0.021710</td>\n",
       "      <td>0.009844</td>\n",
       "      <td>0.006124</td>\n",
       "      <td>0.004339</td>\n",
       "      <td>0.003303</td>\n",
       "    </tr>\n",
       "    <tr>\n",
       "      <th>00:02:00</th>\n",
       "      <td>0.034638</td>\n",
       "      <td>0.015690</td>\n",
       "      <td>0.009825</td>\n",
       "      <td>0.007013</td>\n",
       "      <td>0.005376</td>\n",
       "    </tr>\n",
       "    <tr>\n",
       "      <th>00:02:30</th>\n",
       "      <td>0.050750</td>\n",
       "      <td>0.022888</td>\n",
       "      <td>0.014335</td>\n",
       "      <td>0.010269</td>\n",
       "      <td>0.007922</td>\n",
       "    </tr>\n",
       "    <tr>\n",
       "      <th>00:03:00</th>\n",
       "      <td>0.071508</td>\n",
       "      <td>0.031667</td>\n",
       "      <td>0.019744</td>\n",
       "      <td>0.014110</td>\n",
       "      <td>0.010854</td>\n",
       "    </tr>\n",
       "    <tr>\n",
       "      <th>00:03:30</th>\n",
       "      <td>0.099281</td>\n",
       "      <td>0.042525</td>\n",
       "      <td>0.026145</td>\n",
       "      <td>0.018593</td>\n",
       "      <td>0.014280</td>\n",
       "    </tr>\n",
       "    <tr>\n",
       "      <th>00:04:00</th>\n",
       "      <td>0.140338</td>\n",
       "      <td>0.056747</td>\n",
       "      <td>0.034349</td>\n",
       "      <td>0.024123</td>\n",
       "      <td>0.018411</td>\n",
       "    </tr>\n",
       "    <tr>\n",
       "      <th>00:04:30</th>\n",
       "      <td>0.203619</td>\n",
       "      <td>0.076162</td>\n",
       "      <td>0.044602</td>\n",
       "      <td>0.030974</td>\n",
       "      <td>0.023405</td>\n",
       "    </tr>\n",
       "    <tr>\n",
       "      <th>00:05:00</th>\n",
       "      <td>0.305024</td>\n",
       "      <td>0.104818</td>\n",
       "      <td>0.058780</td>\n",
       "      <td>0.039836</td>\n",
       "      <td>0.029760</td>\n",
       "    </tr>\n",
       "    <tr>\n",
       "      <th>...</th>\n",
       "      <td>...</td>\n",
       "      <td>...</td>\n",
       "      <td>...</td>\n",
       "      <td>...</td>\n",
       "      <td>...</td>\n",
       "    </tr>\n",
       "    <tr>\n",
       "      <th>04:55:30</th>\n",
       "      <td>0.000325</td>\n",
       "      <td>0.000338</td>\n",
       "      <td>0.000351</td>\n",
       "      <td>0.000367</td>\n",
       "      <td>0.000383</td>\n",
       "    </tr>\n",
       "    <tr>\n",
       "      <th>04:56:00</th>\n",
       "      <td>0.000324</td>\n",
       "      <td>0.000336</td>\n",
       "      <td>0.000350</td>\n",
       "      <td>0.000365</td>\n",
       "      <td>0.000381</td>\n",
       "    </tr>\n",
       "    <tr>\n",
       "      <th>04:56:30</th>\n",
       "      <td>0.000322</td>\n",
       "      <td>0.000335</td>\n",
       "      <td>0.000348</td>\n",
       "      <td>0.000363</td>\n",
       "      <td>0.000379</td>\n",
       "    </tr>\n",
       "    <tr>\n",
       "      <th>04:57:00</th>\n",
       "      <td>0.000321</td>\n",
       "      <td>0.000333</td>\n",
       "      <td>0.000346</td>\n",
       "      <td>0.000362</td>\n",
       "      <td>0.000377</td>\n",
       "    </tr>\n",
       "    <tr>\n",
       "      <th>04:57:30</th>\n",
       "      <td>0.000319</td>\n",
       "      <td>0.000332</td>\n",
       "      <td>0.000345</td>\n",
       "      <td>0.000360</td>\n",
       "      <td>0.000375</td>\n",
       "    </tr>\n",
       "    <tr>\n",
       "      <th>04:58:00</th>\n",
       "      <td>0.000318</td>\n",
       "      <td>0.000330</td>\n",
       "      <td>0.000343</td>\n",
       "      <td>0.000358</td>\n",
       "      <td>0.000374</td>\n",
       "    </tr>\n",
       "    <tr>\n",
       "      <th>04:58:30</th>\n",
       "      <td>0.000316</td>\n",
       "      <td>0.000329</td>\n",
       "      <td>0.000342</td>\n",
       "      <td>0.000357</td>\n",
       "      <td>0.000372</td>\n",
       "    </tr>\n",
       "    <tr>\n",
       "      <th>04:59:00</th>\n",
       "      <td>0.000315</td>\n",
       "      <td>0.000327</td>\n",
       "      <td>0.000340</td>\n",
       "      <td>0.000355</td>\n",
       "      <td>0.000370</td>\n",
       "    </tr>\n",
       "    <tr>\n",
       "      <th>04:59:30</th>\n",
       "      <td>0.000314</td>\n",
       "      <td>0.000326</td>\n",
       "      <td>0.000339</td>\n",
       "      <td>0.000353</td>\n",
       "      <td>0.000368</td>\n",
       "    </tr>\n",
       "    <tr>\n",
       "      <th>05:00:00</th>\n",
       "      <td>0.000312</td>\n",
       "      <td>0.000324</td>\n",
       "      <td>0.000337</td>\n",
       "      <td>0.000352</td>\n",
       "      <td>0.000367</td>\n",
       "    </tr>\n",
       "  </tbody>\n",
       "</table>\n",
       "<p>600 rows × 5 columns</p>\n",
       "</div>"
      ],
      "text/plain": [
       "              5min     10min     15min     20min     25min\n",
       "time                                                      \n",
       "00:00:30  0.005100  0.002231  0.001348  0.000930  0.000691\n",
       "00:01:00  0.010961  0.004784  0.002887  0.001992  0.001480\n",
       "00:01:30  0.021710  0.009844  0.006124  0.004339  0.003303\n",
       "00:02:00  0.034638  0.015690  0.009825  0.007013  0.005376\n",
       "00:02:30  0.050750  0.022888  0.014335  0.010269  0.007922\n",
       "00:03:00  0.071508  0.031667  0.019744  0.014110  0.010854\n",
       "00:03:30  0.099281  0.042525  0.026145  0.018593  0.014280\n",
       "00:04:00  0.140338  0.056747  0.034349  0.024123  0.018411\n",
       "00:04:30  0.203619  0.076162  0.044602  0.030974  0.023405\n",
       "00:05:00  0.305024  0.104818  0.058780  0.039836  0.029760\n",
       "...            ...       ...       ...       ...       ...\n",
       "04:55:30  0.000325  0.000338  0.000351  0.000367  0.000383\n",
       "04:56:00  0.000324  0.000336  0.000350  0.000365  0.000381\n",
       "04:56:30  0.000322  0.000335  0.000348  0.000363  0.000379\n",
       "04:57:00  0.000321  0.000333  0.000346  0.000362  0.000377\n",
       "04:57:30  0.000319  0.000332  0.000345  0.000360  0.000375\n",
       "04:58:00  0.000318  0.000330  0.000343  0.000358  0.000374\n",
       "04:58:30  0.000316  0.000329  0.000342  0.000357  0.000372\n",
       "04:59:00  0.000315  0.000327  0.000340  0.000355  0.000370\n",
       "04:59:30  0.000314  0.000326  0.000339  0.000353  0.000368\n",
       "05:00:00  0.000312  0.000324  0.000337  0.000352  0.000367\n",
       "\n",
       "[600 rows x 5 columns]"
      ]
     },
     "execution_count": 5,
     "metadata": {},
     "output_type": "execute_result"
    }
   ],
   "source": [
    "pd.options.display.max_rows = 20\n",
    "node = pd.read_csv('n27.csv')\n",
    "map(datetime, node['time'])\n",
    "node = node.set_index('time')\n",
    "node"
   ]
  },
  {
   "cell_type": "markdown",
   "metadata": {},
   "source": [
    "Finalmente visualizziamo i dati con matplotlib. Il secondo comando, preceduto da \"%\" consente di visualizzare automaticamente sullo schermo il risultato grafico. "
   ]
  },
  {
   "cell_type": "code",
   "execution_count": 6,
   "metadata": {},
   "outputs": [],
   "source": [
    "import matplotlib.pyplot as plt\n",
    "%matplotlib inline "
   ]
  },
  {
   "cell_type": "markdown",
   "metadata": {},
   "source": [
    "Si visualizzano le curve di portata rispetto all'andamento nel tempo per un controllo ulteriore"
   ]
  },
  {
   "cell_type": "code",
   "execution_count": 7,
   "metadata": {},
   "outputs": [],
   "source": [
    "all=node[['5min','10min', '15min', '20min', '25min']]"
   ]
  },
  {
   "cell_type": "code",
   "execution_count": 8,
   "metadata": {},
   "outputs": [
    {
     "data": {
      "text/plain": [
       "[]"
      ]
     },
     "execution_count": 8,
     "metadata": {},
     "output_type": "execute_result"
    },
    {
     "data": {
      "image/png": "[encoded data removed]",
      "text/plain": [
       "<Figure size 432x288 with 1 Axes>"
      ]
     },
     "metadata": {
      "needs_background": "light"
     },
     "output_type": "display_data"
    }
   ],
   "source": [
    "ax = all.plot(style=\"-o\")\n",
    "ax.set_xlabel('Time [hh:mm:ss]')\n",
    "ax.set_ylabel(r'$Q\\,\\left[m^3/s\\right]$')\n",
    "ax.plot()"
   ]
  },
  {
   "cell_type": "markdown",
   "metadata": {},
   "source": [
    "Si valuta il valore massimo di portata tra i massimi ottenuti per tempi diversi di pioggia e il relativo tempo critico"
   ]
  },
  {
   "cell_type": "code",
   "execution_count": 9,
   "metadata": {},
   "outputs": [],
   "source": [
    "n_t1 = node['5min']\n",
    "n_t2 = node['10min']\n",
    "n_t3 = node['15min']\n",
    "n_t4 = node['20min']\n",
    "n_t5 = node['25min']"
   ]
  },
  {
   "cell_type": "code",
   "execution_count": 10,
   "metadata": {},
   "outputs": [
    {
     "data": {
      "text/plain": [
       "[1.330196, 1.387876, 1.271452, 1.093923, 0.987614]"
      ]
     },
     "execution_count": 10,
     "metadata": {},
     "output_type": "execute_result"
    }
   ],
   "source": [
    "maxValues = [n_t1.max(), n_t2.max(), n_t3.max(), n_t4.max(), n_t5.max()]\n",
    "maxValues"
   ]
  },
  {
   "cell_type": "markdown",
   "metadata": {},
   "source": [
    "Il valore massimo tra i tempi è $Q_{max}$ e vale"
   ]
  },
  {
   "cell_type": "code",
   "execution_count": 11,
   "metadata": {},
   "outputs": [
    {
     "data": {
      "text/plain": [
       "1.387876"
      ]
     },
     "execution_count": 11,
     "metadata": {},
     "output_type": "execute_result"
    }
   ],
   "source": [
    "maxValue = max(maxValues)\n",
    "maxValue"
   ]
  },
  {
   "cell_type": "markdown",
   "metadata": {},
   "source": [
    "cioè, in litri"
   ]
  },
  {
   "cell_type": "code",
   "execution_count": 14,
   "metadata": {},
   "outputs": [
    {
     "data": {
      "text/plain": [
       "1387.8760000000002"
      ]
     },
     "execution_count": 14,
     "metadata": {},
     "output_type": "execute_result"
    }
   ],
   "source": [
    "maxValue * 1000"
   ]
  },
  {
   "cell_type": "markdown",
   "metadata": {},
   "source": [
    "La sua posizione nel file dei massimi è:"
   ]
  },
  {
   "cell_type": "code",
   "execution_count": 15,
   "metadata": {},
   "outputs": [
    {
     "data": {
      "text/plain": [
       "1"
      ]
     },
     "execution_count": 15,
     "metadata": {},
     "output_type": "execute_result"
    }
   ],
   "source": [
    "maxValues.index(maxValue)"
   ]
  },
  {
   "cell_type": "markdown",
   "metadata": {},
   "source": [
    "cioè è causata dalla precipitazione di **10min**."
   ]
  },
  {
   "cell_type": "markdown",
   "metadata": {},
   "source": [
    "Ora ci proponiamo di trovare il tempo in cui il massimo si realizza. Per fare questo dobbiamo considerare il primo dataFrame."
   ]
  },
  {
   "cell_type": "code",
   "execution_count": 16,
   "metadata": {},
   "outputs": [],
   "source": [
    "mask=(n_t2==n_t2.max())"
   ]
  },
  {
   "cell_type": "code",
   "execution_count": 17,
   "metadata": {},
   "outputs": [
    {
     "data": {
      "text/plain": [
       "time\n",
       "00:12:00    1.387876\n",
       "Name: 10min, dtype: float64"
      ]
     },
     "execution_count": 17,
     "metadata": {},
     "output_type": "execute_result"
    }
   ],
   "source": [
    "n_t2[mask]"
   ]
  },
  {
   "cell_type": "markdown",
   "metadata": {},
   "source": [
    "Il tempo di pioggia critico risulta:"
   ]
  },
  {
   "cell_type": "code",
   "execution_count": 18,
   "metadata": {},
   "outputs": [
    {
     "data": {
      "text/plain": [
       "Index(['00:12:00'], dtype='object', name='time')"
      ]
     },
     "execution_count": 18,
     "metadata": {},
     "output_type": "execute_result"
    }
   ],
   "source": [
    "n_t2[mask].index"
   ]
  },
  {
   "cell_type": "markdown",
   "metadata": {},
   "source": [
    "---"
   ]
  }
 ],
 "metadata": {
  "kernelspec": {
   "display_name": "Python 3",
   "language": "python",
   "name": "python3"
  },
  "language_info": {
   "codemirror_mode": {
    "name": "ipython",
    "version": 3
   },
   "file_extension": ".py",
   "mimetype": "text/x-python",
   "name": "python",
   "nbconvert_exporter": "python",
   "pygments_lexer": "ipython3",
   "version": "3.7.3"
  }
 },
 "nbformat": 4,
 "nbformat_minor": 2
}
