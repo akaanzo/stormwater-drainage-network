{
 "cells": [
  {
   "cell_type": "markdown",
   "metadata": {},
   "source": [
    "# Prezzi dei tubi posati\n",
    "---\n",
    "Franzoi - Rebellato - 2019-06-08\n",
    "\n",
    "Stima, a partire dall'elenco prezzi della Provincia Autonoma di Trento, della posa delle condotte in funzione del diametro esterno.  \n",
    "L'approssimazione è stata fatta attraverso la regressione lineare."
   ]
  },
  {
   "cell_type": "code",
   "execution_count": 2,
   "metadata": {},
   "outputs": [],
   "source": [
    "import math\n",
    "import numpy as np \n",
    "import matplotlib.pyplot as plt\n",
    "%matplotlib inline\n",
    "import pandas as pd\n",
    "from sklearn.linear_model import LinearRegression\n",
    "import os "
   ]
  },
  {
   "cell_type": "markdown",
   "metadata": {},
   "source": [
    "Sul prezzario del PAT si trovano i seguenti dati riferiti alle condotte _posate_ in polietilene **SN 8**"
   ]
  },
  {
   "cell_type": "code",
   "execution_count": 3,
   "metadata": {},
   "outputs": [
    {
     "data": {
      "text/html": [
       "<div>\n",
       "<style scoped>\n",
       "    .dataframe tbody tr th:only-of-type {\n",
       "        vertical-align: middle;\n",
       "    }\n",
       "\n",
       "    .dataframe tbody tr th {\n",
       "        vertical-align: top;\n",
       "    }\n",
       "\n",
       "    .dataframe thead th {\n",
       "        text-align: right;\n",
       "    }\n",
       "</style>\n",
       "<table border=\"1\" class=\"dataframe\">\n",
       "  <thead>\n",
       "    <tr style=\"text-align: right;\">\n",
       "      <th></th>\n",
       "      <th>prezzi</th>\n",
       "    </tr>\n",
       "  </thead>\n",
       "  <tbody>\n",
       "    <tr>\n",
       "      <th>200</th>\n",
       "      <td>40.01</td>\n",
       "    </tr>\n",
       "    <tr>\n",
       "      <th>250</th>\n",
       "      <td>52.64</td>\n",
       "    </tr>\n",
       "    <tr>\n",
       "      <th>315</th>\n",
       "      <td>69.28</td>\n",
       "    </tr>\n",
       "    <tr>\n",
       "      <th>400</th>\n",
       "      <td>100.35</td>\n",
       "    </tr>\n",
       "    <tr>\n",
       "      <th>500</th>\n",
       "      <td>144.80</td>\n",
       "    </tr>\n",
       "    <tr>\n",
       "      <th>630</th>\n",
       "      <td>216.37</td>\n",
       "    </tr>\n",
       "  </tbody>\n",
       "</table>\n",
       "</div>"
      ],
      "text/plain": [
       "     prezzi\n",
       "200   40.01\n",
       "250   52.64\n",
       "315   69.28\n",
       "400  100.35\n",
       "500  144.80\n",
       "630  216.37"
      ]
     },
     "execution_count": 3,
     "metadata": {},
     "output_type": "execute_result"
    }
   ],
   "source": [
    "prezziprovincia = pd.DataFrame(\n",
    "[40.01, 52.64, 69.28, 100.35, 144.8, 216.37], \n",
    "[200, 250, 315, 400, 500, 630], columns = ['prezzi']\n",
    ")\n",
    "prezziprovincia"
   ]
  },
  {
   "cell_type": "code",
   "execution_count": 4,
   "metadata": {},
   "outputs": [
    {
     "data": {
      "image/png": "[encoded data removed]",
      "text/plain": [
       "<Figure size 432x288 with 1 Axes>"
      ]
     },
     "metadata": {
      "needs_background": "light"
     },
     "output_type": "display_data"
    }
   ],
   "source": [
    "plt.plot(prezziprovincia, 'o-')\n",
    "plt.title('Prezzo dei tubi posati in funzione del diametro\\n(da elenco prezzi)')\n",
    "plt.xlabel('Diametro esterno [mm]')\n",
    "plt.ylabel('Prezzo per unità di lunghezza [€/m]')\n",
    "plt.show()"
   ]
  },
  {
   "cell_type": "markdown",
   "metadata": {},
   "source": [
    "Mentre i prezzi del solo tubo, ricavati da oppo.it, sono i seguenti"
   ]
  },
  {
   "cell_type": "code",
   "execution_count": 5,
   "metadata": {},
   "outputs": [
    {
     "data": {
      "text/html": [
       "<div>\n",
       "<style scoped>\n",
       "    .dataframe tbody tr th:only-of-type {\n",
       "        vertical-align: middle;\n",
       "    }\n",
       "\n",
       "    .dataframe tbody tr th {\n",
       "        vertical-align: top;\n",
       "    }\n",
       "\n",
       "    .dataframe thead th {\n",
       "        text-align: right;\n",
       "    }\n",
       "</style>\n",
       "<table border=\"1\" class=\"dataframe\">\n",
       "  <thead>\n",
       "    <tr style=\"text-align: right;\">\n",
       "      <th></th>\n",
       "      <th>prezzi</th>\n",
       "    </tr>\n",
       "  </thead>\n",
       "  <tbody>\n",
       "    <tr>\n",
       "      <th>160</th>\n",
       "      <td>9.89</td>\n",
       "    </tr>\n",
       "    <tr>\n",
       "      <th>200</th>\n",
       "      <td>14.38</td>\n",
       "    </tr>\n",
       "    <tr>\n",
       "      <th>250</th>\n",
       "      <td>20.79</td>\n",
       "    </tr>\n",
       "    <tr>\n",
       "      <th>315</th>\n",
       "      <td>29.70</td>\n",
       "    </tr>\n",
       "    <tr>\n",
       "      <th>350</th>\n",
       "      <td>37.18</td>\n",
       "    </tr>\n",
       "    <tr>\n",
       "      <th>400</th>\n",
       "      <td>46.64</td>\n",
       "    </tr>\n",
       "    <tr>\n",
       "      <th>465</th>\n",
       "      <td>58.30</td>\n",
       "    </tr>\n",
       "    <tr>\n",
       "      <th>500</th>\n",
       "      <td>77.44</td>\n",
       "    </tr>\n",
       "    <tr>\n",
       "      <th>580</th>\n",
       "      <td>95.70</td>\n",
       "    </tr>\n",
       "    <tr>\n",
       "      <th>630</th>\n",
       "      <td>119.02</td>\n",
       "    </tr>\n",
       "    <tr>\n",
       "      <th>700</th>\n",
       "      <td>151.25</td>\n",
       "    </tr>\n",
       "    <tr>\n",
       "      <th>800</th>\n",
       "      <td>204.60</td>\n",
       "    </tr>\n",
       "    <tr>\n",
       "      <th>930</th>\n",
       "      <td>279.40</td>\n",
       "    </tr>\n",
       "    <tr>\n",
       "      <th>1000</th>\n",
       "      <td>300.85</td>\n",
       "    </tr>\n",
       "    <tr>\n",
       "      <th>1200</th>\n",
       "      <td>421.30</td>\n",
       "    </tr>\n",
       "  </tbody>\n",
       "</table>\n",
       "</div>"
      ],
      "text/plain": [
       "      prezzi\n",
       "160     9.89\n",
       "200    14.38\n",
       "250    20.79\n",
       "315    29.70\n",
       "350    37.18\n",
       "400    46.64\n",
       "465    58.30\n",
       "500    77.44\n",
       "580    95.70\n",
       "630   119.02\n",
       "700   151.25\n",
       "800   204.60\n",
       "930   279.40\n",
       "1000  300.85\n",
       "1200  421.30"
      ]
     },
     "execution_count": 5,
     "metadata": {},
     "output_type": "execute_result"
    }
   ],
   "source": [
    "prezzioppo = pd.DataFrame(\n",
    "[\n",
    "    9.89, 14.38, 20.79, 29.70, 37.18, 46.64, 58.3, 77.44, 95.7, 119.02, 151.25, 204.6, 279.4, 300.85, 421.3\n",
    "],\n",
    "[\n",
    "    160, 200, 250, 315, 350, 400, 465, 500, 580, 630, 700, 800, 930, 1000, 1200\n",
    "] \n",
    ", columns = ['prezzi'])\n",
    "prezzioppo"
   ]
  },
  {
   "cell_type": "code",
   "execution_count": 6,
   "metadata": {},
   "outputs": [
    {
     "data": {
      "image/png": "[encoded data removed]",
      "text/plain": [
       "<Figure size 432x288 with 1 Axes>"
      ]
     },
     "metadata": {
      "needs_background": "light"
     },
     "output_type": "display_data"
    }
   ],
   "source": [
    "plt.plot(prezzioppo, 'o', c = 'r')\n",
    "plt.title('Prezzo dei soli tubi in funzione del diametro\\n(da oppo.it)')\n",
    "plt.xlabel('Diametro esterno [mm]')\n",
    "plt.ylabel('Prezzo per unità di lunghezza [€/m]')\n",
    "plt.show()"
   ]
  },
  {
   "cell_type": "code",
   "execution_count": 7,
   "metadata": {},
   "outputs": [
    {
     "data": {
      "image/png": "[encoded data removed]",
      "text/plain": [
       "<Figure size 432x288 with 1 Axes>"
      ]
     },
     "metadata": {
      "needs_background": "light"
     },
     "output_type": "display_data"
    }
   ],
   "source": [
    "plt.plot(prezziprovincia, 'bo-', prezzioppo, 'ro-')\n",
    "plt.title('Confronto')\n",
    "plt.xlabel('Diametro esterno [mm]')\n",
    "plt.ylabel('Prezzo per unità di lunghezza [€/m]')\n",
    "plt.show()"
   ]
  },
  {
   "cell_type": "markdown",
   "metadata": {},
   "source": [
    "Poiché i prezzi per i tubi di diametro esterno maggiore di 630 mm non sono presenti nell'elenco prezzi della Provincia Autonoma di Trento, si procede approssimando i dati del prezzario con una retta."
   ]
  },
  {
   "cell_type": "code",
   "execution_count": 8,
   "metadata": {},
   "outputs": [
    {
     "data": {
      "text/plain": [
       "matrix([[200.  ,  40.01],\n",
       "        [250.  ,  52.64],\n",
       "        [315.  ,  69.28],\n",
       "        [400.  , 100.35],\n",
       "        [500.  , 144.8 ],\n",
       "        [630.  , 216.37]])"
      ]
     },
     "execution_count": 8,
     "metadata": {},
     "output_type": "execute_result"
    }
   ],
   "source": [
    "prezziprovincia = prezziprovincia.reset_index()\n",
    "data = np.matrix(prezziprovincia)\n",
    "data"
   ]
  },
  {
   "cell_type": "code",
   "execution_count": 9,
   "metadata": {},
   "outputs": [],
   "source": [
    "X, Y = data[:, 0], data[:, 1]"
   ]
  },
  {
   "cell_type": "code",
   "execution_count": 10,
   "metadata": {},
   "outputs": [
    {
     "data": {
      "text/plain": [
       "0.9790698760458663"
      ]
     },
     "execution_count": 10,
     "metadata": {},
     "output_type": "execute_result"
    }
   ],
   "source": [
    "sol = LinearRegression().fit(X,Y)\n",
    "sol.score(X,Y)"
   ]
  },
  {
   "cell_type": "code",
   "execution_count": 11,
   "metadata": {},
   "outputs": [
    {
     "name": "stdout",
     "output_type": "stream",
     "text": [
      "y = [0.40805639] x + -52.173235528369716\n"
     ]
    }
   ],
   "source": [
    "m = sol.coef_[0]\n",
    "q = sol.intercept_[0]\n",
    "print('y =', m, 'x','+', q)"
   ]
  },
  {
   "cell_type": "code",
   "execution_count": 12,
   "metadata": {},
   "outputs": [
    {
     "data": {
      "image/png": "[encoded data removed]",
      "text/plain": [
       "<Figure size 432x288 with 1 Axes>"
      ]
     },
     "metadata": {
      "needs_background": "light"
     },
     "output_type": "display_data"
    }
   ],
   "source": [
    "plt.plot(X,Y, 'bo')\n",
    "t = np.linspace(200, 1025, 100)\n",
    "plt.plot(t, m*t+q, 'r' )\n",
    "plt.title('Approssimazione dei dati')\n",
    "plt.xlabel('Diametro esterno [mm]')\n",
    "plt.ylabel('Prezzo per unità di lunghezza [€/m]')\n",
    "plt.legend(['Dati da elenco prezzi', 'Regressione lineare'])\n",
    "plt.show()"
   ]
  },
  {
   "cell_type": "markdown",
   "metadata": {},
   "source": [
    "Per una condotta di diametro esterno pari a 1.2 m, il prezzo trovato è di"
   ]
  },
  {
   "cell_type": "code",
   "execution_count": 13,
   "metadata": {},
   "outputs": [
    {
     "data": {
      "text/plain": [
       "array([[437.49443149]])"
      ]
     },
     "execution_count": 13,
     "metadata": {},
     "output_type": "execute_result"
    }
   ],
   "source": [
    "sol.predict([[1200]])"
   ]
  },
  {
   "cell_type": "code",
   "execution_count": 14,
   "metadata": {},
   "outputs": [
    {
     "data": {
      "text/plain": [
       "[[160],\n",
       " [200],\n",
       " [250],\n",
       " [315],\n",
       " [350],\n",
       " [400],\n",
       " [465],\n",
       " [500],\n",
       " [580],\n",
       " [630],\n",
       " [700],\n",
       " [800],\n",
       " [930],\n",
       " [1000],\n",
       " [1200]]"
      ]
     },
     "execution_count": 14,
     "metadata": {},
     "output_type": "execute_result"
    }
   ],
   "source": [
    "diam = prezzioppo.index.tolist()\n",
    "for i in range(len(diam)):\n",
    "    diam[i] = [diam[i]]\n",
    "    \n",
    "diam"
   ]
  },
  {
   "cell_type": "code",
   "execution_count": 15,
   "metadata": {},
   "outputs": [
    {
     "data": {
      "text/plain": [
       "[13.115786740577974,\n",
       " 40.01,\n",
       " 52.64,\n",
       " 69.28,\n",
       " 90.64650068495335,\n",
       " 100.35,\n",
       " 137.5729854407595,\n",
       " 144.8,\n",
       " 184.49947019656565,\n",
       " 216.37,\n",
       " 233.4662368982764,\n",
       " 274.2718758163687,\n",
       " 327.31920640988875,\n",
       " 355.88315365255335,\n",
       " 437.494431488738]"
      ]
     },
     "execution_count": 15,
     "metadata": {},
     "output_type": "execute_result"
    }
   ],
   "source": [
    "prezzi = sol.predict(diam)\n",
    "prezzi = prezzi.tolist()\n",
    "for i in range(len(prezzi)):\n",
    "    [prezzi[i]] = prezzi[i]\n",
    "prezzi[1] = 40.01\n",
    "prezzi[2] = 52.64\n",
    "prezzi[3] = 69.28\n",
    "prezzi[5] = 100.35\n",
    "prezzi[7] = 144.8\n",
    "prezzi[9] = 216.37\n",
    "prezzi"
   ]
  },
  {
   "cell_type": "code",
   "execution_count": 16,
   "metadata": {},
   "outputs": [
    {
     "data": {
      "text/plain": [
       "[160, 200, 250, 315, 350, 400, 465, 500, 580, 630, 700, 800, 930, 1000, 1200]"
      ]
     },
     "execution_count": 16,
     "metadata": {},
     "output_type": "execute_result"
    }
   ],
   "source": [
    "diameter = prezzioppo.index.tolist()\n",
    "diameter"
   ]
  },
  {
   "cell_type": "code",
   "execution_count": 21,
   "metadata": {},
   "outputs": [
    {
     "data": {
      "text/html": [
       "<div>\n",
       "<style scoped>\n",
       "    .dataframe tbody tr th:only-of-type {\n",
       "        vertical-align: middle;\n",
       "    }\n",
       "\n",
       "    .dataframe tbody tr th {\n",
       "        vertical-align: top;\n",
       "    }\n",
       "\n",
       "    .dataframe thead th {\n",
       "        text-align: right;\n",
       "    }\n",
       "</style>\n",
       "<table border=\"1\" class=\"dataframe\">\n",
       "  <thead>\n",
       "    <tr style=\"text-align: right;\">\n",
       "      <th></th>\n",
       "      <th>Prezzi [€/m]</th>\n",
       "    </tr>\n",
       "    <tr>\n",
       "      <th>Diametro esterno [mm]</th>\n",
       "      <th></th>\n",
       "    </tr>\n",
       "  </thead>\n",
       "  <tbody>\n",
       "    <tr>\n",
       "      <th>160</th>\n",
       "      <td>13.115787</td>\n",
       "    </tr>\n",
       "    <tr>\n",
       "      <th>200</th>\n",
       "      <td>40.010000</td>\n",
       "    </tr>\n",
       "    <tr>\n",
       "      <th>250</th>\n",
       "      <td>52.640000</td>\n",
       "    </tr>\n",
       "    <tr>\n",
       "      <th>315</th>\n",
       "      <td>69.280000</td>\n",
       "    </tr>\n",
       "    <tr>\n",
       "      <th>350</th>\n",
       "      <td>90.646501</td>\n",
       "    </tr>\n",
       "    <tr>\n",
       "      <th>400</th>\n",
       "      <td>100.350000</td>\n",
       "    </tr>\n",
       "    <tr>\n",
       "      <th>465</th>\n",
       "      <td>137.572985</td>\n",
       "    </tr>\n",
       "    <tr>\n",
       "      <th>500</th>\n",
       "      <td>144.800000</td>\n",
       "    </tr>\n",
       "    <tr>\n",
       "      <th>580</th>\n",
       "      <td>184.499470</td>\n",
       "    </tr>\n",
       "    <tr>\n",
       "      <th>630</th>\n",
       "      <td>216.370000</td>\n",
       "    </tr>\n",
       "    <tr>\n",
       "      <th>700</th>\n",
       "      <td>233.466237</td>\n",
       "    </tr>\n",
       "    <tr>\n",
       "      <th>800</th>\n",
       "      <td>274.271876</td>\n",
       "    </tr>\n",
       "    <tr>\n",
       "      <th>930</th>\n",
       "      <td>327.319206</td>\n",
       "    </tr>\n",
       "    <tr>\n",
       "      <th>1000</th>\n",
       "      <td>355.883154</td>\n",
       "    </tr>\n",
       "    <tr>\n",
       "      <th>1200</th>\n",
       "      <td>437.494431</td>\n",
       "    </tr>\n",
       "  </tbody>\n",
       "</table>\n",
       "</div>"
      ],
      "text/plain": [
       "                       Prezzi [€/m]\n",
       "Diametro esterno [mm]              \n",
       "160                       13.115787\n",
       "200                       40.010000\n",
       "250                       52.640000\n",
       "315                       69.280000\n",
       "350                       90.646501\n",
       "400                      100.350000\n",
       "465                      137.572985\n",
       "500                      144.800000\n",
       "580                      184.499470\n",
       "630                      216.370000\n",
       "700                      233.466237\n",
       "800                      274.271876\n",
       "930                      327.319206\n",
       "1000                     355.883154\n",
       "1200                     437.494431"
      ]
     },
     "execution_count": 21,
     "metadata": {},
     "output_type": "execute_result"
    }
   ],
   "source": [
    "df = pd.DataFrame(prezzi, diameter, columns = ['Prezzi [€/m]'])\n",
    "df.index.name = 'Diametro esterno [mm]'\n",
    "df"
   ]
  },
  {
   "cell_type": "code",
   "execution_count": 22,
   "metadata": {},
   "outputs": [
    {
     "data": {
      "text/plain": [
       "'\\\\begin{tabular}{lr}\\n\\\\toprule\\n{} &  Prezzi [€/m] \\\\\\\\\\nDiametro esterno [mm] &               \\\\\\\\\\n\\\\midrule\\n160                   &     13.115787 \\\\\\\\\\n200                   &     40.010000 \\\\\\\\\\n250                   &     52.640000 \\\\\\\\\\n315                   &     69.280000 \\\\\\\\\\n350                   &     90.646501 \\\\\\\\\\n400                   &    100.350000 \\\\\\\\\\n465                   &    137.572985 \\\\\\\\\\n500                   &    144.800000 \\\\\\\\\\n580                   &    184.499470 \\\\\\\\\\n630                   &    216.370000 \\\\\\\\\\n700                   &    233.466237 \\\\\\\\\\n800                   &    274.271876 \\\\\\\\\\n930                   &    327.319206 \\\\\\\\\\n1000                  &    355.883154 \\\\\\\\\\n1200                  &    437.494431 \\\\\\\\\\n\\\\bottomrule\\n\\\\end{tabular}\\n'"
      ]
     },
     "execution_count": 22,
     "metadata": {},
     "output_type": "execute_result"
    }
   ],
   "source": [
    "df.to_latex()"
   ]
  },
  {
   "cell_type": "code",
   "execution_count": 25,
   "metadata": {},
   "outputs": [
    {
     "data": {
      "image/png": "[encoded data removed]",
      "text/plain": [
       "<Figure size 432x288 with 1 Axes>"
      ]
     },
     "metadata": {
      "needs_background": "light"
     },
     "output_type": "display_data"
    },
    {
     "data": {
      "text/plain": [
       "<Figure size 432x288 with 0 Axes>"
      ]
     },
     "metadata": {},
     "output_type": "display_data"
    }
   ],
   "source": [
    "plt.plot(df, 'bo')\n",
    "h = np.linspace(100, 1210, 100)\n",
    "plt.plot(h, m*h + q, 'r-' )\n",
    "plt.title('Tutti i dati')\n",
    "plt.xlabel('Diametro esterno [mm]')\n",
    "plt.ylabel('Prezzo per unità di lunghezza [€/m]')\n",
    "plt.legend(['Tutti i dati', 'Regressione lineare'])\n",
    "plt.show()\n",
    "plt.savefig('D:\\\\hydraulic-construction\\\\fognatura-pergine\\\\images\\\\interpolazione_costi_tubi.jpg')"
   ]
  },
  {
   "cell_type": "code",
   "execution_count": 19,
   "metadata": {},
   "outputs": [
    {
     "data": {
      "text/plain": [
       "'D:\\\\git\\\\pluviometria\\\\fognatura'"
      ]
     },
     "execution_count": 19,
     "metadata": {},
     "output_type": "execute_result"
    }
   ],
   "source": [
    "os.getcwd()"
   ]
  },
  {
   "cell_type": "code",
   "execution_count": 20,
   "metadata": {},
   "outputs": [],
   "source": [
    "df.to_csv('prezzi_tubi.csv')"
   ]
  },
  {
   "cell_type": "markdown",
   "metadata": {},
   "source": [
    "---"
   ]
  }
 ],
 "metadata": {
  "kernelspec": {
   "display_name": "Python 3",
   "language": "python",
   "name": "python3"
  },
  "language_info": {
   "codemirror_mode": {
    "name": "ipython",
    "version": 3
   },
   "file_extension": ".py",
   "mimetype": "text/x-python",
   "name": "python",
   "nbconvert_exporter": "python",
   "pygments_lexer": "ipython3",
   "version": "3.7.3"
  }
 },
 "nbformat": 4,
 "nbformat_minor": 2
}
